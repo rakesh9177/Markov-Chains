{
  "nbformat": 4,
  "nbformat_minor": 0,
  "metadata": {
    "colab": {
      "provenance": []
    },
    "kernelspec": {
      "name": "python3",
      "display_name": "Python 3"
    },
    "language_info": {
      "name": "python"
    }
  },
  "cells": [
    {
      "cell_type": "code",
      "execution_count": 2,
      "metadata": {
        "id": "DLznUxZ3GOzH"
      },
      "outputs": [],
      "source": [
        "import pandas as pd\n",
        "import numpy as np"
      ]
    },
    {
      "cell_type": "code",
      "source": [
        "df = pd.read_csv('Tetuan_City_power_consumption.csv')\n",
        "df.columns"
      ],
      "metadata": {
        "colab": {
          "base_uri": "https://localhost:8080/"
        },
        "id": "HYQtx-M7GUXY",
        "outputId": "35fd1adf-26af-4af6-fa68-c119c801ff8b"
      },
      "execution_count": 3,
      "outputs": [
        {
          "output_type": "execute_result",
          "data": {
            "text/plain": [
              "Index(['DateTime', 'Temperature', 'Humidity', 'Wind Speed',\n",
              "       'general diffuse flows', 'diffuse flows', 'Zone 1 Power Consumption',\n",
              "       'Zone 2  Power Consumption', 'Zone 3  Power Consumption'],\n",
              "      dtype='object')"
            ]
          },
          "metadata": {},
          "execution_count": 3
        }
      ]
    },
    {
      "cell_type": "code",
      "source": [
        "df['Total_Consumption'] = df['Zone 1 Power Consumption']+df['Zone 2  Power Consumption']+df['Zone 3  Power Consumption']"
      ],
      "metadata": {
        "id": "jmyyNqHbGgTp"
      },
      "execution_count": 4,
      "outputs": []
    },
    {
      "cell_type": "code",
      "source": [
        "df.tail()"
      ],
      "metadata": {
        "colab": {
          "base_uri": "https://localhost:8080/",
          "height": 387
        },
        "id": "NqyUIb0GG8nE",
        "outputId": "3d3e764d-b4e0-423c-c109-0086f12cd527"
      },
      "execution_count": 5,
      "outputs": [
        {
          "output_type": "execute_result",
          "data": {
            "text/plain": [
              "               DateTime  Temperature  Humidity  Wind Speed  \\\n",
              "52411  12/30/2017 23:10        7.010      72.4       0.080   \n",
              "52412  12/30/2017 23:20        6.947      72.6       0.082   \n",
              "52413  12/30/2017 23:30        6.900      72.8       0.086   \n",
              "52414  12/30/2017 23:40        6.758      73.0       0.080   \n",
              "52415  12/30/2017 23:50        6.580      74.1       0.081   \n",
              "\n",
              "       general diffuse flows  diffuse flows  Zone 1 Power Consumption  \\\n",
              "52411                  0.040          0.096               31160.45627   \n",
              "52412                  0.051          0.093               30430.41825   \n",
              "52413                  0.084          0.074               29590.87452   \n",
              "52414                  0.066          0.089               28958.17490   \n",
              "52415                  0.062          0.111               28349.80989   \n",
              "\n",
              "       Zone 2  Power Consumption  Zone 3  Power Consumption  Total_Consumption  \n",
              "52411                26857.31820                14780.31212        72798.08659  \n",
              "52412                26124.57809                14428.81152        70983.80786  \n",
              "52413                25277.69254                13806.48259        68675.04965  \n",
              "52414                24692.23688                13512.60504        67163.01682  \n",
              "52415                24055.23167                13345.49820        65750.53976  "
            ],
            "text/html": [
              "\n",
              "  <div id=\"df-3ed16d6b-1ef8-4ca6-97c8-be796676ec1d\">\n",
              "    <div class=\"colab-df-container\">\n",
              "      <div>\n",
              "<style scoped>\n",
              "    .dataframe tbody tr th:only-of-type {\n",
              "        vertical-align: middle;\n",
              "    }\n",
              "\n",
              "    .dataframe tbody tr th {\n",
              "        vertical-align: top;\n",
              "    }\n",
              "\n",
              "    .dataframe thead th {\n",
              "        text-align: right;\n",
              "    }\n",
              "</style>\n",
              "<table border=\"1\" class=\"dataframe\">\n",
              "  <thead>\n",
              "    <tr style=\"text-align: right;\">\n",
              "      <th></th>\n",
              "      <th>DateTime</th>\n",
              "      <th>Temperature</th>\n",
              "      <th>Humidity</th>\n",
              "      <th>Wind Speed</th>\n",
              "      <th>general diffuse flows</th>\n",
              "      <th>diffuse flows</th>\n",
              "      <th>Zone 1 Power Consumption</th>\n",
              "      <th>Zone 2  Power Consumption</th>\n",
              "      <th>Zone 3  Power Consumption</th>\n",
              "      <th>Total_Consumption</th>\n",
              "    </tr>\n",
              "  </thead>\n",
              "  <tbody>\n",
              "    <tr>\n",
              "      <th>52411</th>\n",
              "      <td>12/30/2017 23:10</td>\n",
              "      <td>7.010</td>\n",
              "      <td>72.4</td>\n",
              "      <td>0.080</td>\n",
              "      <td>0.040</td>\n",
              "      <td>0.096</td>\n",
              "      <td>31160.45627</td>\n",
              "      <td>26857.31820</td>\n",
              "      <td>14780.31212</td>\n",
              "      <td>72798.08659</td>\n",
              "    </tr>\n",
              "    <tr>\n",
              "      <th>52412</th>\n",
              "      <td>12/30/2017 23:20</td>\n",
              "      <td>6.947</td>\n",
              "      <td>72.6</td>\n",
              "      <td>0.082</td>\n",
              "      <td>0.051</td>\n",
              "      <td>0.093</td>\n",
              "      <td>30430.41825</td>\n",
              "      <td>26124.57809</td>\n",
              "      <td>14428.81152</td>\n",
              "      <td>70983.80786</td>\n",
              "    </tr>\n",
              "    <tr>\n",
              "      <th>52413</th>\n",
              "      <td>12/30/2017 23:30</td>\n",
              "      <td>6.900</td>\n",
              "      <td>72.8</td>\n",
              "      <td>0.086</td>\n",
              "      <td>0.084</td>\n",
              "      <td>0.074</td>\n",
              "      <td>29590.87452</td>\n",
              "      <td>25277.69254</td>\n",
              "      <td>13806.48259</td>\n",
              "      <td>68675.04965</td>\n",
              "    </tr>\n",
              "    <tr>\n",
              "      <th>52414</th>\n",
              "      <td>12/30/2017 23:40</td>\n",
              "      <td>6.758</td>\n",
              "      <td>73.0</td>\n",
              "      <td>0.080</td>\n",
              "      <td>0.066</td>\n",
              "      <td>0.089</td>\n",
              "      <td>28958.17490</td>\n",
              "      <td>24692.23688</td>\n",
              "      <td>13512.60504</td>\n",
              "      <td>67163.01682</td>\n",
              "    </tr>\n",
              "    <tr>\n",
              "      <th>52415</th>\n",
              "      <td>12/30/2017 23:50</td>\n",
              "      <td>6.580</td>\n",
              "      <td>74.1</td>\n",
              "      <td>0.081</td>\n",
              "      <td>0.062</td>\n",
              "      <td>0.111</td>\n",
              "      <td>28349.80989</td>\n",
              "      <td>24055.23167</td>\n",
              "      <td>13345.49820</td>\n",
              "      <td>65750.53976</td>\n",
              "    </tr>\n",
              "  </tbody>\n",
              "</table>\n",
              "</div>\n",
              "      <button class=\"colab-df-convert\" onclick=\"convertToInteractive('df-3ed16d6b-1ef8-4ca6-97c8-be796676ec1d')\"\n",
              "              title=\"Convert this dataframe to an interactive table.\"\n",
              "              style=\"display:none;\">\n",
              "        \n",
              "  <svg xmlns=\"http://www.w3.org/2000/svg\" height=\"24px\"viewBox=\"0 0 24 24\"\n",
              "       width=\"24px\">\n",
              "    <path d=\"M0 0h24v24H0V0z\" fill=\"none\"/>\n",
              "    <path d=\"M18.56 5.44l.94 2.06.94-2.06 2.06-.94-2.06-.94-.94-2.06-.94 2.06-2.06.94zm-11 1L8.5 8.5l.94-2.06 2.06-.94-2.06-.94L8.5 2.5l-.94 2.06-2.06.94zm10 10l.94 2.06.94-2.06 2.06-.94-2.06-.94-.94-2.06-.94 2.06-2.06.94z\"/><path d=\"M17.41 7.96l-1.37-1.37c-.4-.4-.92-.59-1.43-.59-.52 0-1.04.2-1.43.59L10.3 9.45l-7.72 7.72c-.78.78-.78 2.05 0 2.83L4 21.41c.39.39.9.59 1.41.59.51 0 1.02-.2 1.41-.59l7.78-7.78 2.81-2.81c.8-.78.8-2.07 0-2.86zM5.41 20L4 18.59l7.72-7.72 1.47 1.35L5.41 20z\"/>\n",
              "  </svg>\n",
              "      </button>\n",
              "      \n",
              "  <style>\n",
              "    .colab-df-container {\n",
              "      display:flex;\n",
              "      flex-wrap:wrap;\n",
              "      gap: 12px;\n",
              "    }\n",
              "\n",
              "    .colab-df-convert {\n",
              "      background-color: #E8F0FE;\n",
              "      border: none;\n",
              "      border-radius: 50%;\n",
              "      cursor: pointer;\n",
              "      display: none;\n",
              "      fill: #1967D2;\n",
              "      height: 32px;\n",
              "      padding: 0 0 0 0;\n",
              "      width: 32px;\n",
              "    }\n",
              "\n",
              "    .colab-df-convert:hover {\n",
              "      background-color: #E2EBFA;\n",
              "      box-shadow: 0px 1px 2px rgba(60, 64, 67, 0.3), 0px 1px 3px 1px rgba(60, 64, 67, 0.15);\n",
              "      fill: #174EA6;\n",
              "    }\n",
              "\n",
              "    [theme=dark] .colab-df-convert {\n",
              "      background-color: #3B4455;\n",
              "      fill: #D2E3FC;\n",
              "    }\n",
              "\n",
              "    [theme=dark] .colab-df-convert:hover {\n",
              "      background-color: #434B5C;\n",
              "      box-shadow: 0px 1px 3px 1px rgba(0, 0, 0, 0.15);\n",
              "      filter: drop-shadow(0px 1px 2px rgba(0, 0, 0, 0.3));\n",
              "      fill: #FFFFFF;\n",
              "    }\n",
              "  </style>\n",
              "\n",
              "      <script>\n",
              "        const buttonEl =\n",
              "          document.querySelector('#df-3ed16d6b-1ef8-4ca6-97c8-be796676ec1d button.colab-df-convert');\n",
              "        buttonEl.style.display =\n",
              "          google.colab.kernel.accessAllowed ? 'block' : 'none';\n",
              "\n",
              "        async function convertToInteractive(key) {\n",
              "          const element = document.querySelector('#df-3ed16d6b-1ef8-4ca6-97c8-be796676ec1d');\n",
              "          const dataTable =\n",
              "            await google.colab.kernel.invokeFunction('convertToInteractive',\n",
              "                                                     [key], {});\n",
              "          if (!dataTable) return;\n",
              "\n",
              "          const docLinkHtml = 'Like what you see? Visit the ' +\n",
              "            '<a target=\"_blank\" href=https://colab.research.google.com/notebooks/data_table.ipynb>data table notebook</a>'\n",
              "            + ' to learn more about interactive tables.';\n",
              "          element.innerHTML = '';\n",
              "          dataTable['output_type'] = 'display_data';\n",
              "          await google.colab.output.renderOutput(dataTable, element);\n",
              "          const docLink = document.createElement('div');\n",
              "          docLink.innerHTML = docLinkHtml;\n",
              "          element.appendChild(docLink);\n",
              "        }\n",
              "      </script>\n",
              "    </div>\n",
              "  </div>\n",
              "  "
            ]
          },
          "metadata": {},
          "execution_count": 5
        }
      ]
    },
    {
      "cell_type": "code",
      "source": [
        "df.dtypes"
      ],
      "metadata": {
        "colab": {
          "base_uri": "https://localhost:8080/"
        },
        "id": "fsO1PLWjHFPP",
        "outputId": "b06c9a34-556f-49c0-e66f-e0c8d776ca2b"
      },
      "execution_count": 6,
      "outputs": [
        {
          "output_type": "execute_result",
          "data": {
            "text/plain": [
              "DateTime                      object\n",
              "Temperature                  float64\n",
              "Humidity                     float64\n",
              "Wind Speed                   float64\n",
              "general diffuse flows        float64\n",
              "diffuse flows                float64\n",
              "Zone 1 Power Consumption     float64\n",
              "Zone 2  Power Consumption    float64\n",
              "Zone 3  Power Consumption    float64\n",
              "Total_Consumption            float64\n",
              "dtype: object"
            ]
          },
          "metadata": {},
          "execution_count": 6
        }
      ]
    },
    {
      "cell_type": "code",
      "source": [
        "df[df.DateTime.str.contains('2/28/2017 23:50')]"
      ],
      "metadata": {
        "colab": {
          "base_uri": "https://localhost:8080/",
          "height": 243
        },
        "id": "keWvnUhSHbRD",
        "outputId": "15541fe3-8702-4e61-ca72-140127cbabe9"
      },
      "execution_count": 7,
      "outputs": [
        {
          "output_type": "execute_result",
          "data": {
            "text/plain": [
              "               DateTime  Temperature  Humidity  Wind Speed  \\\n",
              "8495    2/28/2017 23:50        13.31     67.29       0.085   \n",
              "52127  12/28/2017 23:50        13.23     55.51       0.077   \n",
              "\n",
              "       general diffuse flows  diffuse flows  Zone 1 Power Consumption  \\\n",
              "8495                   0.055          0.167               29843.38983   \n",
              "52127                  0.066          0.119               28167.30038   \n",
              "\n",
              "       Zone 2  Power Consumption  Zone 3  Power Consumption  Total_Consumption  \n",
              "8495                 18474.16413                18020.98492        66338.53888  \n",
              "52127                24117.82755                12227.61104        64512.73897  "
            ],
            "text/html": [
              "\n",
              "  <div id=\"df-d6a5af44-ee6d-4e8e-874e-33fd00cf7bde\">\n",
              "    <div class=\"colab-df-container\">\n",
              "      <div>\n",
              "<style scoped>\n",
              "    .dataframe tbody tr th:only-of-type {\n",
              "        vertical-align: middle;\n",
              "    }\n",
              "\n",
              "    .dataframe tbody tr th {\n",
              "        vertical-align: top;\n",
              "    }\n",
              "\n",
              "    .dataframe thead th {\n",
              "        text-align: right;\n",
              "    }\n",
              "</style>\n",
              "<table border=\"1\" class=\"dataframe\">\n",
              "  <thead>\n",
              "    <tr style=\"text-align: right;\">\n",
              "      <th></th>\n",
              "      <th>DateTime</th>\n",
              "      <th>Temperature</th>\n",
              "      <th>Humidity</th>\n",
              "      <th>Wind Speed</th>\n",
              "      <th>general diffuse flows</th>\n",
              "      <th>diffuse flows</th>\n",
              "      <th>Zone 1 Power Consumption</th>\n",
              "      <th>Zone 2  Power Consumption</th>\n",
              "      <th>Zone 3  Power Consumption</th>\n",
              "      <th>Total_Consumption</th>\n",
              "    </tr>\n",
              "  </thead>\n",
              "  <tbody>\n",
              "    <tr>\n",
              "      <th>8495</th>\n",
              "      <td>2/28/2017 23:50</td>\n",
              "      <td>13.31</td>\n",
              "      <td>67.29</td>\n",
              "      <td>0.085</td>\n",
              "      <td>0.055</td>\n",
              "      <td>0.167</td>\n",
              "      <td>29843.38983</td>\n",
              "      <td>18474.16413</td>\n",
              "      <td>18020.98492</td>\n",
              "      <td>66338.53888</td>\n",
              "    </tr>\n",
              "    <tr>\n",
              "      <th>52127</th>\n",
              "      <td>12/28/2017 23:50</td>\n",
              "      <td>13.23</td>\n",
              "      <td>55.51</td>\n",
              "      <td>0.077</td>\n",
              "      <td>0.066</td>\n",
              "      <td>0.119</td>\n",
              "      <td>28167.30038</td>\n",
              "      <td>24117.82755</td>\n",
              "      <td>12227.61104</td>\n",
              "      <td>64512.73897</td>\n",
              "    </tr>\n",
              "  </tbody>\n",
              "</table>\n",
              "</div>\n",
              "      <button class=\"colab-df-convert\" onclick=\"convertToInteractive('df-d6a5af44-ee6d-4e8e-874e-33fd00cf7bde')\"\n",
              "              title=\"Convert this dataframe to an interactive table.\"\n",
              "              style=\"display:none;\">\n",
              "        \n",
              "  <svg xmlns=\"http://www.w3.org/2000/svg\" height=\"24px\"viewBox=\"0 0 24 24\"\n",
              "       width=\"24px\">\n",
              "    <path d=\"M0 0h24v24H0V0z\" fill=\"none\"/>\n",
              "    <path d=\"M18.56 5.44l.94 2.06.94-2.06 2.06-.94-2.06-.94-.94-2.06-.94 2.06-2.06.94zm-11 1L8.5 8.5l.94-2.06 2.06-.94-2.06-.94L8.5 2.5l-.94 2.06-2.06.94zm10 10l.94 2.06.94-2.06 2.06-.94-2.06-.94-.94-2.06-.94 2.06-2.06.94z\"/><path d=\"M17.41 7.96l-1.37-1.37c-.4-.4-.92-.59-1.43-.59-.52 0-1.04.2-1.43.59L10.3 9.45l-7.72 7.72c-.78.78-.78 2.05 0 2.83L4 21.41c.39.39.9.59 1.41.59.51 0 1.02-.2 1.41-.59l7.78-7.78 2.81-2.81c.8-.78.8-2.07 0-2.86zM5.41 20L4 18.59l7.72-7.72 1.47 1.35L5.41 20z\"/>\n",
              "  </svg>\n",
              "      </button>\n",
              "      \n",
              "  <style>\n",
              "    .colab-df-container {\n",
              "      display:flex;\n",
              "      flex-wrap:wrap;\n",
              "      gap: 12px;\n",
              "    }\n",
              "\n",
              "    .colab-df-convert {\n",
              "      background-color: #E8F0FE;\n",
              "      border: none;\n",
              "      border-radius: 50%;\n",
              "      cursor: pointer;\n",
              "      display: none;\n",
              "      fill: #1967D2;\n",
              "      height: 32px;\n",
              "      padding: 0 0 0 0;\n",
              "      width: 32px;\n",
              "    }\n",
              "\n",
              "    .colab-df-convert:hover {\n",
              "      background-color: #E2EBFA;\n",
              "      box-shadow: 0px 1px 2px rgba(60, 64, 67, 0.3), 0px 1px 3px 1px rgba(60, 64, 67, 0.15);\n",
              "      fill: #174EA6;\n",
              "    }\n",
              "\n",
              "    [theme=dark] .colab-df-convert {\n",
              "      background-color: #3B4455;\n",
              "      fill: #D2E3FC;\n",
              "    }\n",
              "\n",
              "    [theme=dark] .colab-df-convert:hover {\n",
              "      background-color: #434B5C;\n",
              "      box-shadow: 0px 1px 3px 1px rgba(0, 0, 0, 0.15);\n",
              "      filter: drop-shadow(0px 1px 2px rgba(0, 0, 0, 0.3));\n",
              "      fill: #FFFFFF;\n",
              "    }\n",
              "  </style>\n",
              "\n",
              "      <script>\n",
              "        const buttonEl =\n",
              "          document.querySelector('#df-d6a5af44-ee6d-4e8e-874e-33fd00cf7bde button.colab-df-convert');\n",
              "        buttonEl.style.display =\n",
              "          google.colab.kernel.accessAllowed ? 'block' : 'none';\n",
              "\n",
              "        async function convertToInteractive(key) {\n",
              "          const element = document.querySelector('#df-d6a5af44-ee6d-4e8e-874e-33fd00cf7bde');\n",
              "          const dataTable =\n",
              "            await google.colab.kernel.invokeFunction('convertToInteractive',\n",
              "                                                     [key], {});\n",
              "          if (!dataTable) return;\n",
              "\n",
              "          const docLinkHtml = 'Like what you see? Visit the ' +\n",
              "            '<a target=\"_blank\" href=https://colab.research.google.com/notebooks/data_table.ipynb>data table notebook</a>'\n",
              "            + ' to learn more about interactive tables.';\n",
              "          element.innerHTML = '';\n",
              "          dataTable['output_type'] = 'display_data';\n",
              "          await google.colab.output.renderOutput(dataTable, element);\n",
              "          const docLink = document.createElement('div');\n",
              "          docLink.innerHTML = docLinkHtml;\n",
              "          element.appendChild(docLink);\n",
              "        }\n",
              "      </script>\n",
              "    </div>\n",
              "  </div>\n",
              "  "
            ]
          },
          "metadata": {},
          "execution_count": 7
        }
      ]
    },
    {
      "cell_type": "code",
      "source": [
        "df['DateTime'] = pd.to_datetime(df['DateTime'])"
      ],
      "metadata": {
        "id": "q3XWPATTH9Or"
      },
      "execution_count": 8,
      "outputs": []
    },
    {
      "cell_type": "code",
      "source": [
        "df.describe()"
      ],
      "metadata": {
        "colab": {
          "base_uri": "https://localhost:8080/",
          "height": 395
        },
        "id": "8MAk7RV6LMaW",
        "outputId": "d3d7adef-afed-49f5-8446-528d4f3fb3a8"
      },
      "execution_count": 9,
      "outputs": [
        {
          "output_type": "execute_result",
          "data": {
            "text/plain": [
              "        Temperature      Humidity    Wind Speed  general diffuse flows  \\\n",
              "count  52416.000000  52416.000000  52416.000000           52416.000000   \n",
              "mean      18.810024     68.259518      1.959489             182.696614   \n",
              "std        5.815476     15.551177      2.348862             264.400960   \n",
              "min        3.247000     11.340000      0.050000               0.004000   \n",
              "25%       14.410000     58.310000      0.078000               0.062000   \n",
              "50%       18.780000     69.860000      0.086000               5.035500   \n",
              "75%       22.890000     81.400000      4.915000             319.600000   \n",
              "max       40.010000     94.800000      6.483000            1163.000000   \n",
              "\n",
              "       diffuse flows  Zone 1 Power Consumption  Zone 2  Power Consumption  \\\n",
              "count   52416.000000              52416.000000               52416.000000   \n",
              "mean       75.028022              32344.970564               21042.509082   \n",
              "std       124.210949               7130.562564                5201.465892   \n",
              "min         0.011000              13895.696200                8560.081466   \n",
              "25%         0.122000              26310.668692               16980.766032   \n",
              "50%         4.456000              32265.920340               20823.168405   \n",
              "75%       101.000000              37309.018185               24713.717520   \n",
              "max       936.000000              52204.395120               37408.860760   \n",
              "\n",
              "       Zone 3  Power Consumption  Total_Consumption  \n",
              "count               52416.000000       52416.000000  \n",
              "mean                17835.406218       71222.885864  \n",
              "std                  6622.165099       17143.138964  \n",
              "min                  5935.174070       36785.039739  \n",
              "25%                 13129.326630       56499.074640  \n",
              "50%                 16415.117470       69788.790940  \n",
              "75%                 21624.100420       83749.172310  \n",
              "max                 47598.326360      134208.145950  "
            ],
            "text/html": [
              "\n",
              "  <div id=\"df-7baa3549-b492-43f5-bf2d-9bbe585f8023\">\n",
              "    <div class=\"colab-df-container\">\n",
              "      <div>\n",
              "<style scoped>\n",
              "    .dataframe tbody tr th:only-of-type {\n",
              "        vertical-align: middle;\n",
              "    }\n",
              "\n",
              "    .dataframe tbody tr th {\n",
              "        vertical-align: top;\n",
              "    }\n",
              "\n",
              "    .dataframe thead th {\n",
              "        text-align: right;\n",
              "    }\n",
              "</style>\n",
              "<table border=\"1\" class=\"dataframe\">\n",
              "  <thead>\n",
              "    <tr style=\"text-align: right;\">\n",
              "      <th></th>\n",
              "      <th>Temperature</th>\n",
              "      <th>Humidity</th>\n",
              "      <th>Wind Speed</th>\n",
              "      <th>general diffuse flows</th>\n",
              "      <th>diffuse flows</th>\n",
              "      <th>Zone 1 Power Consumption</th>\n",
              "      <th>Zone 2  Power Consumption</th>\n",
              "      <th>Zone 3  Power Consumption</th>\n",
              "      <th>Total_Consumption</th>\n",
              "    </tr>\n",
              "  </thead>\n",
              "  <tbody>\n",
              "    <tr>\n",
              "      <th>count</th>\n",
              "      <td>52416.000000</td>\n",
              "      <td>52416.000000</td>\n",
              "      <td>52416.000000</td>\n",
              "      <td>52416.000000</td>\n",
              "      <td>52416.000000</td>\n",
              "      <td>52416.000000</td>\n",
              "      <td>52416.000000</td>\n",
              "      <td>52416.000000</td>\n",
              "      <td>52416.000000</td>\n",
              "    </tr>\n",
              "    <tr>\n",
              "      <th>mean</th>\n",
              "      <td>18.810024</td>\n",
              "      <td>68.259518</td>\n",
              "      <td>1.959489</td>\n",
              "      <td>182.696614</td>\n",
              "      <td>75.028022</td>\n",
              "      <td>32344.970564</td>\n",
              "      <td>21042.509082</td>\n",
              "      <td>17835.406218</td>\n",
              "      <td>71222.885864</td>\n",
              "    </tr>\n",
              "    <tr>\n",
              "      <th>std</th>\n",
              "      <td>5.815476</td>\n",
              "      <td>15.551177</td>\n",
              "      <td>2.348862</td>\n",
              "      <td>264.400960</td>\n",
              "      <td>124.210949</td>\n",
              "      <td>7130.562564</td>\n",
              "      <td>5201.465892</td>\n",
              "      <td>6622.165099</td>\n",
              "      <td>17143.138964</td>\n",
              "    </tr>\n",
              "    <tr>\n",
              "      <th>min</th>\n",
              "      <td>3.247000</td>\n",
              "      <td>11.340000</td>\n",
              "      <td>0.050000</td>\n",
              "      <td>0.004000</td>\n",
              "      <td>0.011000</td>\n",
              "      <td>13895.696200</td>\n",
              "      <td>8560.081466</td>\n",
              "      <td>5935.174070</td>\n",
              "      <td>36785.039739</td>\n",
              "    </tr>\n",
              "    <tr>\n",
              "      <th>25%</th>\n",
              "      <td>14.410000</td>\n",
              "      <td>58.310000</td>\n",
              "      <td>0.078000</td>\n",
              "      <td>0.062000</td>\n",
              "      <td>0.122000</td>\n",
              "      <td>26310.668692</td>\n",
              "      <td>16980.766032</td>\n",
              "      <td>13129.326630</td>\n",
              "      <td>56499.074640</td>\n",
              "    </tr>\n",
              "    <tr>\n",
              "      <th>50%</th>\n",
              "      <td>18.780000</td>\n",
              "      <td>69.860000</td>\n",
              "      <td>0.086000</td>\n",
              "      <td>5.035500</td>\n",
              "      <td>4.456000</td>\n",
              "      <td>32265.920340</td>\n",
              "      <td>20823.168405</td>\n",
              "      <td>16415.117470</td>\n",
              "      <td>69788.790940</td>\n",
              "    </tr>\n",
              "    <tr>\n",
              "      <th>75%</th>\n",
              "      <td>22.890000</td>\n",
              "      <td>81.400000</td>\n",
              "      <td>4.915000</td>\n",
              "      <td>319.600000</td>\n",
              "      <td>101.000000</td>\n",
              "      <td>37309.018185</td>\n",
              "      <td>24713.717520</td>\n",
              "      <td>21624.100420</td>\n",
              "      <td>83749.172310</td>\n",
              "    </tr>\n",
              "    <tr>\n",
              "      <th>max</th>\n",
              "      <td>40.010000</td>\n",
              "      <td>94.800000</td>\n",
              "      <td>6.483000</td>\n",
              "      <td>1163.000000</td>\n",
              "      <td>936.000000</td>\n",
              "      <td>52204.395120</td>\n",
              "      <td>37408.860760</td>\n",
              "      <td>47598.326360</td>\n",
              "      <td>134208.145950</td>\n",
              "    </tr>\n",
              "  </tbody>\n",
              "</table>\n",
              "</div>\n",
              "      <button class=\"colab-df-convert\" onclick=\"convertToInteractive('df-7baa3549-b492-43f5-bf2d-9bbe585f8023')\"\n",
              "              title=\"Convert this dataframe to an interactive table.\"\n",
              "              style=\"display:none;\">\n",
              "        \n",
              "  <svg xmlns=\"http://www.w3.org/2000/svg\" height=\"24px\"viewBox=\"0 0 24 24\"\n",
              "       width=\"24px\">\n",
              "    <path d=\"M0 0h24v24H0V0z\" fill=\"none\"/>\n",
              "    <path d=\"M18.56 5.44l.94 2.06.94-2.06 2.06-.94-2.06-.94-.94-2.06-.94 2.06-2.06.94zm-11 1L8.5 8.5l.94-2.06 2.06-.94-2.06-.94L8.5 2.5l-.94 2.06-2.06.94zm10 10l.94 2.06.94-2.06 2.06-.94-2.06-.94-.94-2.06-.94 2.06-2.06.94z\"/><path d=\"M17.41 7.96l-1.37-1.37c-.4-.4-.92-.59-1.43-.59-.52 0-1.04.2-1.43.59L10.3 9.45l-7.72 7.72c-.78.78-.78 2.05 0 2.83L4 21.41c.39.39.9.59 1.41.59.51 0 1.02-.2 1.41-.59l7.78-7.78 2.81-2.81c.8-.78.8-2.07 0-2.86zM5.41 20L4 18.59l7.72-7.72 1.47 1.35L5.41 20z\"/>\n",
              "  </svg>\n",
              "      </button>\n",
              "      \n",
              "  <style>\n",
              "    .colab-df-container {\n",
              "      display:flex;\n",
              "      flex-wrap:wrap;\n",
              "      gap: 12px;\n",
              "    }\n",
              "\n",
              "    .colab-df-convert {\n",
              "      background-color: #E8F0FE;\n",
              "      border: none;\n",
              "      border-radius: 50%;\n",
              "      cursor: pointer;\n",
              "      display: none;\n",
              "      fill: #1967D2;\n",
              "      height: 32px;\n",
              "      padding: 0 0 0 0;\n",
              "      width: 32px;\n",
              "    }\n",
              "\n",
              "    .colab-df-convert:hover {\n",
              "      background-color: #E2EBFA;\n",
              "      box-shadow: 0px 1px 2px rgba(60, 64, 67, 0.3), 0px 1px 3px 1px rgba(60, 64, 67, 0.15);\n",
              "      fill: #174EA6;\n",
              "    }\n",
              "\n",
              "    [theme=dark] .colab-df-convert {\n",
              "      background-color: #3B4455;\n",
              "      fill: #D2E3FC;\n",
              "    }\n",
              "\n",
              "    [theme=dark] .colab-df-convert:hover {\n",
              "      background-color: #434B5C;\n",
              "      box-shadow: 0px 1px 3px 1px rgba(0, 0, 0, 0.15);\n",
              "      filter: drop-shadow(0px 1px 2px rgba(0, 0, 0, 0.3));\n",
              "      fill: #FFFFFF;\n",
              "    }\n",
              "  </style>\n",
              "\n",
              "      <script>\n",
              "        const buttonEl =\n",
              "          document.querySelector('#df-7baa3549-b492-43f5-bf2d-9bbe585f8023 button.colab-df-convert');\n",
              "        buttonEl.style.display =\n",
              "          google.colab.kernel.accessAllowed ? 'block' : 'none';\n",
              "\n",
              "        async function convertToInteractive(key) {\n",
              "          const element = document.querySelector('#df-7baa3549-b492-43f5-bf2d-9bbe585f8023');\n",
              "          const dataTable =\n",
              "            await google.colab.kernel.invokeFunction('convertToInteractive',\n",
              "                                                     [key], {});\n",
              "          if (!dataTable) return;\n",
              "\n",
              "          const docLinkHtml = 'Like what you see? Visit the ' +\n",
              "            '<a target=\"_blank\" href=https://colab.research.google.com/notebooks/data_table.ipynb>data table notebook</a>'\n",
              "            + ' to learn more about interactive tables.';\n",
              "          element.innerHTML = '';\n",
              "          dataTable['output_type'] = 'display_data';\n",
              "          await google.colab.output.renderOutput(dataTable, element);\n",
              "          const docLink = document.createElement('div');\n",
              "          docLink.innerHTML = docLinkHtml;\n",
              "          element.appendChild(docLink);\n",
              "        }\n",
              "      </script>\n",
              "    </div>\n",
              "  </div>\n",
              "  "
            ]
          },
          "metadata": {},
          "execution_count": 9
        }
      ]
    },
    {
      "cell_type": "code",
      "source": [
        "dti = pd.date_range(\"2017-01-01\", periods=365, freq=\"D\")\n",
        "print(dti)\n",
        "df[df['DateTime']< dti[0]+pd.Timedelta(\"1 day\")]\n",
        "\n",
        "df[df['DateTime']< dti[0]+pd.Timedelta(\"1 day\")]['Total_Consumption'].mean()"
      ],
      "metadata": {
        "colab": {
          "base_uri": "https://localhost:8080/"
        },
        "id": "NNNfLmuwLPT7",
        "outputId": "f14aa03b-c09d-41d6-e22c-36487ecc26ac"
      },
      "execution_count": 10,
      "outputs": [
        {
          "output_type": "stream",
          "name": "stdout",
          "text": [
            "DatetimeIndex(['2017-01-01', '2017-01-02', '2017-01-03', '2017-01-04',\n",
            "               '2017-01-05', '2017-01-06', '2017-01-07', '2017-01-08',\n",
            "               '2017-01-09', '2017-01-10',\n",
            "               ...\n",
            "               '2017-12-22', '2017-12-23', '2017-12-24', '2017-12-25',\n",
            "               '2017-12-26', '2017-12-27', '2017-12-28', '2017-12-29',\n",
            "               '2017-12-30', '2017-12-31'],\n",
            "              dtype='datetime64[ns]', length=365, freq='D')\n"
          ]
        },
        {
          "output_type": "execute_result",
          "data": {
            "text/plain": [
              "64071.81853444445"
            ]
          },
          "metadata": {},
          "execution_count": 10
        }
      ]
    },
    {
      "cell_type": "code",
      "source": [
        "new_df = pd.DataFrame({\n",
        "    'Month': ['Jan','Feb','Mar','Apr','May','Jun','Jul','Aug','Sep','Oct','Nov','Dec'],\n",
        "    'Avg_consumption': [df[df['DateTime']< dti[0]+pd.Timedelta(\"1 day\")]['Total_Consumption'].mean(),\n",
        "                        df[df['DateTime']< dti[1]+pd.Timedelta(\"1 day\")]['Total_Consumption'].mean(),\n",
        "                        df[df['DateTime']< dti[2]+pd.Timedelta(\"1 day\")]['Total_Consumption'].mean(),\n",
        "                        df[df['DateTime']< dti[3]+pd.Timedelta(\"1 day\")]['Total_Consumption'].mean(),\n",
        "                        df[df['DateTime']< dti[4]+pd.Timedelta(\"1 day\")]['Total_Consumption'].mean(),\n",
        "                        df[df['DateTime']< dti[5]+pd.Timedelta(\"1 day\")]['Total_Consumption'].mean(),\n",
        "                        df[df['DateTime']< dti[6]+pd.Timedelta(\"1 day\")]['Total_Consumption'].mean(),\n",
        "                        df[df['DateTime']< dti[7]+pd.Timedelta(\"1 day\")]['Total_Consumption'].mean(),\n",
        "                        df[df['DateTime']< dti[8]+pd.Timedelta(\"1 day\")]['Total_Consumption'].mean(),\n",
        "                        df[df['DateTime']< dti[9]+pd.Timedelta(\"1 day\")]['Total_Consumption'].mean(),\n",
        "                        df[df['DateTime']< dti[10]+pd.Timedelta(\"1 day\")]['Total_Consumption'].mean(),\n",
        "                        df[df['DateTime']< dti[11]+pd.Timedelta(\"1 day\")]['Total_Consumption'].mean()]\n",
        "}\n",
        ")"
      ],
      "metadata": {
        "id": "QHPKGDRYMKYO"
      },
      "execution_count": 11,
      "outputs": []
    },
    {
      "cell_type": "code",
      "source": [
        "a_df = pd.DataFrame({\n",
        "    'Day' : [i for i in range(1,366)],\n",
        "    'AvgC' : [df[df['DateTime']< dti[i]+pd.Timedelta(\"1 day\")]['Total_Consumption'].mean()\n",
        "    for i in range(365)]\n",
        "})"
      ],
      "metadata": {
        "id": "9YHJYg-TNGg8"
      },
      "execution_count": 12,
      "outputs": []
    },
    {
      "cell_type": "code",
      "source": [
        "a_df"
      ],
      "metadata": {
        "colab": {
          "base_uri": "https://localhost:8080/",
          "height": 419
        },
        "id": "ZyGAr3kANmXJ",
        "outputId": "8feca44b-4ef8-4457-981d-cc4aef6e708c"
      },
      "execution_count": 13,
      "outputs": [
        {
          "output_type": "execute_result",
          "data": {
            "text/plain": [
              "     Day          AvgC\n",
              "0      1  64071.818534\n",
              "1      2  65159.900344\n",
              "2      3  66186.773554\n",
              "3      4  66756.480916\n",
              "4      5  67105.390600\n",
              "..   ...           ...\n",
              "360  361  71274.796867\n",
              "361  362  71260.278872\n",
              "362  363  71243.010121\n",
              "363  364  71222.885864\n",
              "364  365  71222.885864\n",
              "\n",
              "[365 rows x 2 columns]"
            ],
            "text/html": [
              "\n",
              "  <div id=\"df-6e233626-e758-4c97-b2b1-837b36f65175\">\n",
              "    <div class=\"colab-df-container\">\n",
              "      <div>\n",
              "<style scoped>\n",
              "    .dataframe tbody tr th:only-of-type {\n",
              "        vertical-align: middle;\n",
              "    }\n",
              "\n",
              "    .dataframe tbody tr th {\n",
              "        vertical-align: top;\n",
              "    }\n",
              "\n",
              "    .dataframe thead th {\n",
              "        text-align: right;\n",
              "    }\n",
              "</style>\n",
              "<table border=\"1\" class=\"dataframe\">\n",
              "  <thead>\n",
              "    <tr style=\"text-align: right;\">\n",
              "      <th></th>\n",
              "      <th>Day</th>\n",
              "      <th>AvgC</th>\n",
              "    </tr>\n",
              "  </thead>\n",
              "  <tbody>\n",
              "    <tr>\n",
              "      <th>0</th>\n",
              "      <td>1</td>\n",
              "      <td>64071.818534</td>\n",
              "    </tr>\n",
              "    <tr>\n",
              "      <th>1</th>\n",
              "      <td>2</td>\n",
              "      <td>65159.900344</td>\n",
              "    </tr>\n",
              "    <tr>\n",
              "      <th>2</th>\n",
              "      <td>3</td>\n",
              "      <td>66186.773554</td>\n",
              "    </tr>\n",
              "    <tr>\n",
              "      <th>3</th>\n",
              "      <td>4</td>\n",
              "      <td>66756.480916</td>\n",
              "    </tr>\n",
              "    <tr>\n",
              "      <th>4</th>\n",
              "      <td>5</td>\n",
              "      <td>67105.390600</td>\n",
              "    </tr>\n",
              "    <tr>\n",
              "      <th>...</th>\n",
              "      <td>...</td>\n",
              "      <td>...</td>\n",
              "    </tr>\n",
              "    <tr>\n",
              "      <th>360</th>\n",
              "      <td>361</td>\n",
              "      <td>71274.796867</td>\n",
              "    </tr>\n",
              "    <tr>\n",
              "      <th>361</th>\n",
              "      <td>362</td>\n",
              "      <td>71260.278872</td>\n",
              "    </tr>\n",
              "    <tr>\n",
              "      <th>362</th>\n",
              "      <td>363</td>\n",
              "      <td>71243.010121</td>\n",
              "    </tr>\n",
              "    <tr>\n",
              "      <th>363</th>\n",
              "      <td>364</td>\n",
              "      <td>71222.885864</td>\n",
              "    </tr>\n",
              "    <tr>\n",
              "      <th>364</th>\n",
              "      <td>365</td>\n",
              "      <td>71222.885864</td>\n",
              "    </tr>\n",
              "  </tbody>\n",
              "</table>\n",
              "<p>365 rows × 2 columns</p>\n",
              "</div>\n",
              "      <button class=\"colab-df-convert\" onclick=\"convertToInteractive('df-6e233626-e758-4c97-b2b1-837b36f65175')\"\n",
              "              title=\"Convert this dataframe to an interactive table.\"\n",
              "              style=\"display:none;\">\n",
              "        \n",
              "  <svg xmlns=\"http://www.w3.org/2000/svg\" height=\"24px\"viewBox=\"0 0 24 24\"\n",
              "       width=\"24px\">\n",
              "    <path d=\"M0 0h24v24H0V0z\" fill=\"none\"/>\n",
              "    <path d=\"M18.56 5.44l.94 2.06.94-2.06 2.06-.94-2.06-.94-.94-2.06-.94 2.06-2.06.94zm-11 1L8.5 8.5l.94-2.06 2.06-.94-2.06-.94L8.5 2.5l-.94 2.06-2.06.94zm10 10l.94 2.06.94-2.06 2.06-.94-2.06-.94-.94-2.06-.94 2.06-2.06.94z\"/><path d=\"M17.41 7.96l-1.37-1.37c-.4-.4-.92-.59-1.43-.59-.52 0-1.04.2-1.43.59L10.3 9.45l-7.72 7.72c-.78.78-.78 2.05 0 2.83L4 21.41c.39.39.9.59 1.41.59.51 0 1.02-.2 1.41-.59l7.78-7.78 2.81-2.81c.8-.78.8-2.07 0-2.86zM5.41 20L4 18.59l7.72-7.72 1.47 1.35L5.41 20z\"/>\n",
              "  </svg>\n",
              "      </button>\n",
              "      \n",
              "  <style>\n",
              "    .colab-df-container {\n",
              "      display:flex;\n",
              "      flex-wrap:wrap;\n",
              "      gap: 12px;\n",
              "    }\n",
              "\n",
              "    .colab-df-convert {\n",
              "      background-color: #E8F0FE;\n",
              "      border: none;\n",
              "      border-radius: 50%;\n",
              "      cursor: pointer;\n",
              "      display: none;\n",
              "      fill: #1967D2;\n",
              "      height: 32px;\n",
              "      padding: 0 0 0 0;\n",
              "      width: 32px;\n",
              "    }\n",
              "\n",
              "    .colab-df-convert:hover {\n",
              "      background-color: #E2EBFA;\n",
              "      box-shadow: 0px 1px 2px rgba(60, 64, 67, 0.3), 0px 1px 3px 1px rgba(60, 64, 67, 0.15);\n",
              "      fill: #174EA6;\n",
              "    }\n",
              "\n",
              "    [theme=dark] .colab-df-convert {\n",
              "      background-color: #3B4455;\n",
              "      fill: #D2E3FC;\n",
              "    }\n",
              "\n",
              "    [theme=dark] .colab-df-convert:hover {\n",
              "      background-color: #434B5C;\n",
              "      box-shadow: 0px 1px 3px 1px rgba(0, 0, 0, 0.15);\n",
              "      filter: drop-shadow(0px 1px 2px rgba(0, 0, 0, 0.3));\n",
              "      fill: #FFFFFF;\n",
              "    }\n",
              "  </style>\n",
              "\n",
              "      <script>\n",
              "        const buttonEl =\n",
              "          document.querySelector('#df-6e233626-e758-4c97-b2b1-837b36f65175 button.colab-df-convert');\n",
              "        buttonEl.style.display =\n",
              "          google.colab.kernel.accessAllowed ? 'block' : 'none';\n",
              "\n",
              "        async function convertToInteractive(key) {\n",
              "          const element = document.querySelector('#df-6e233626-e758-4c97-b2b1-837b36f65175');\n",
              "          const dataTable =\n",
              "            await google.colab.kernel.invokeFunction('convertToInteractive',\n",
              "                                                     [key], {});\n",
              "          if (!dataTable) return;\n",
              "\n",
              "          const docLinkHtml = 'Like what you see? Visit the ' +\n",
              "            '<a target=\"_blank\" href=https://colab.research.google.com/notebooks/data_table.ipynb>data table notebook</a>'\n",
              "            + ' to learn more about interactive tables.';\n",
              "          element.innerHTML = '';\n",
              "          dataTable['output_type'] = 'display_data';\n",
              "          await google.colab.output.renderOutput(dataTable, element);\n",
              "          const docLink = document.createElement('div');\n",
              "          docLink.innerHTML = docLinkHtml;\n",
              "          element.appendChild(docLink);\n",
              "        }\n",
              "      </script>\n",
              "    </div>\n",
              "  </div>\n",
              "  "
            ]
          },
          "metadata": {},
          "execution_count": 13
        }
      ]
    },
    {
      "cell_type": "code",
      "source": [
        "import matplotlib.pyplot as plt\n",
        "\n",
        "plt.plot(a_df['Day'],a_df['AvgC'])"
      ],
      "metadata": {
        "colab": {
          "base_uri": "https://localhost:8080/",
          "height": 282
        },
        "id": "s2vwEEfwS9Lw",
        "outputId": "a4b742c8-cc93-4cd6-95cc-042d23e5601e"
      },
      "execution_count": 14,
      "outputs": [
        {
          "output_type": "execute_result",
          "data": {
            "text/plain": [
              "[<matplotlib.lines.Line2D at 0x7fd770e16b10>]"
            ]
          },
          "metadata": {},
          "execution_count": 14
        },
        {
          "output_type": "display_data",
          "data": {
            "text/plain": [
              "<Figure size 432x288 with 1 Axes>"
            ],
            "image/png": "[encoded data removed]"
          },
          "metadata": {
            "needs_background": "light"
          }
        }
      ]
    },
    {
      "cell_type": "code",
      "source": [
        "new_df"
      ],
      "metadata": {
        "colab": {
          "base_uri": "https://localhost:8080/",
          "height": 421
        },
        "id": "qgvyNtv6XFf2",
        "outputId": "fe4d098b-8b95-4ede-a889-fe5e397dbc30"
      },
      "execution_count": 15,
      "outputs": [
        {
          "output_type": "execute_result",
          "data": {
            "text/plain": [
              "   Month  Avg_consumption\n",
              "0    Jan     64071.818534\n",
              "1    Feb     65159.900344\n",
              "2    Mar     66186.773554\n",
              "3    Apr     66756.480916\n",
              "4    May     67105.390600\n",
              "5    Jun     67310.006766\n",
              "6    Jul     67387.302343\n",
              "7    Aug     67037.844881\n",
              "8    Sep     67040.381958\n",
              "9    Oct     67205.733861\n",
              "10   Nov     67194.556294\n",
              "11   Dec     67380.057683"
            ],
            "text/html": [
              "\n",
              "  <div id=\"df-d332d07e-f2a1-4dd0-98f8-9cba07db61bd\">\n",
              "    <div class=\"colab-df-container\">\n",
              "      <div>\n",
              "<style scoped>\n",
              "    .dataframe tbody tr th:only-of-type {\n",
              "        vertical-align: middle;\n",
              "    }\n",
              "\n",
              "    .dataframe tbody tr th {\n",
              "        vertical-align: top;\n",
              "    }\n",
              "\n",
              "    .dataframe thead th {\n",
              "        text-align: right;\n",
              "    }\n",
              "</style>\n",
              "<table border=\"1\" class=\"dataframe\">\n",
              "  <thead>\n",
              "    <tr style=\"text-align: right;\">\n",
              "      <th></th>\n",
              "      <th>Month</th>\n",
              "      <th>Avg_consumption</th>\n",
              "    </tr>\n",
              "  </thead>\n",
              "  <tbody>\n",
              "    <tr>\n",
              "      <th>0</th>\n",
              "      <td>Jan</td>\n",
              "      <td>64071.818534</td>\n",
              "    </tr>\n",
              "    <tr>\n",
              "      <th>1</th>\n",
              "      <td>Feb</td>\n",
              "      <td>65159.900344</td>\n",
              "    </tr>\n",
              "    <tr>\n",
              "      <th>2</th>\n",
              "      <td>Mar</td>\n",
              "      <td>66186.773554</td>\n",
              "    </tr>\n",
              "    <tr>\n",
              "      <th>3</th>\n",
              "      <td>Apr</td>\n",
              "      <td>66756.480916</td>\n",
              "    </tr>\n",
              "    <tr>\n",
              "      <th>4</th>\n",
              "      <td>May</td>\n",
              "      <td>67105.390600</td>\n",
              "    </tr>\n",
              "    <tr>\n",
              "      <th>5</th>\n",
              "      <td>Jun</td>\n",
              "      <td>67310.006766</td>\n",
              "    </tr>\n",
              "    <tr>\n",
              "      <th>6</th>\n",
              "      <td>Jul</td>\n",
              "      <td>67387.302343</td>\n",
              "    </tr>\n",
              "    <tr>\n",
              "      <th>7</th>\n",
              "      <td>Aug</td>\n",
              "      <td>67037.844881</td>\n",
              "    </tr>\n",
              "    <tr>\n",
              "      <th>8</th>\n",
              "      <td>Sep</td>\n",
              "      <td>67040.381958</td>\n",
              "    </tr>\n",
              "    <tr>\n",
              "      <th>9</th>\n",
              "      <td>Oct</td>\n",
              "      <td>67205.733861</td>\n",
              "    </tr>\n",
              "    <tr>\n",
              "      <th>10</th>\n",
              "      <td>Nov</td>\n",
              "      <td>67194.556294</td>\n",
              "    </tr>\n",
              "    <tr>\n",
              "      <th>11</th>\n",
              "      <td>Dec</td>\n",
              "      <td>67380.057683</td>\n",
              "    </tr>\n",
              "  </tbody>\n",
              "</table>\n",
              "</div>\n",
              "      <button class=\"colab-df-convert\" onclick=\"convertToInteractive('df-d332d07e-f2a1-4dd0-98f8-9cba07db61bd')\"\n",
              "              title=\"Convert this dataframe to an interactive table.\"\n",
              "              style=\"display:none;\">\n",
              "        \n",
              "  <svg xmlns=\"http://www.w3.org/2000/svg\" height=\"24px\"viewBox=\"0 0 24 24\"\n",
              "       width=\"24px\">\n",
              "    <path d=\"M0 0h24v24H0V0z\" fill=\"none\"/>\n",
              "    <path d=\"M18.56 5.44l.94 2.06.94-2.06 2.06-.94-2.06-.94-.94-2.06-.94 2.06-2.06.94zm-11 1L8.5 8.5l.94-2.06 2.06-.94-2.06-.94L8.5 2.5l-.94 2.06-2.06.94zm10 10l.94 2.06.94-2.06 2.06-.94-2.06-.94-.94-2.06-.94 2.06-2.06.94z\"/><path d=\"M17.41 7.96l-1.37-1.37c-.4-.4-.92-.59-1.43-.59-.52 0-1.04.2-1.43.59L10.3 9.45l-7.72 7.72c-.78.78-.78 2.05 0 2.83L4 21.41c.39.39.9.59 1.41.59.51 0 1.02-.2 1.41-.59l7.78-7.78 2.81-2.81c.8-.78.8-2.07 0-2.86zM5.41 20L4 18.59l7.72-7.72 1.47 1.35L5.41 20z\"/>\n",
              "  </svg>\n",
              "      </button>\n",
              "      \n",
              "  <style>\n",
              "    .colab-df-container {\n",
              "      display:flex;\n",
              "      flex-wrap:wrap;\n",
              "      gap: 12px;\n",
              "    }\n",
              "\n",
              "    .colab-df-convert {\n",
              "      background-color: #E8F0FE;\n",
              "      border: none;\n",
              "      border-radius: 50%;\n",
              "      cursor: pointer;\n",
              "      display: none;\n",
              "      fill: #1967D2;\n",
              "      height: 32px;\n",
              "      padding: 0 0 0 0;\n",
              "      width: 32px;\n",
              "    }\n",
              "\n",
              "    .colab-df-convert:hover {\n",
              "      background-color: #E2EBFA;\n",
              "      box-shadow: 0px 1px 2px rgba(60, 64, 67, 0.3), 0px 1px 3px 1px rgba(60, 64, 67, 0.15);\n",
              "      fill: #174EA6;\n",
              "    }\n",
              "\n",
              "    [theme=dark] .colab-df-convert {\n",
              "      background-color: #3B4455;\n",
              "      fill: #D2E3FC;\n",
              "    }\n",
              "\n",
              "    [theme=dark] .colab-df-convert:hover {\n",
              "      background-color: #434B5C;\n",
              "      box-shadow: 0px 1px 3px 1px rgba(0, 0, 0, 0.15);\n",
              "      filter: drop-shadow(0px 1px 2px rgba(0, 0, 0, 0.3));\n",
              "      fill: #FFFFFF;\n",
              "    }\n",
              "  </style>\n",
              "\n",
              "      <script>\n",
              "        const buttonEl =\n",
              "          document.querySelector('#df-d332d07e-f2a1-4dd0-98f8-9cba07db61bd button.colab-df-convert');\n",
              "        buttonEl.style.display =\n",
              "          google.colab.kernel.accessAllowed ? 'block' : 'none';\n",
              "\n",
              "        async function convertToInteractive(key) {\n",
              "          const element = document.querySelector('#df-d332d07e-f2a1-4dd0-98f8-9cba07db61bd');\n",
              "          const dataTable =\n",
              "            await google.colab.kernel.invokeFunction('convertToInteractive',\n",
              "                                                     [key], {});\n",
              "          if (!dataTable) return;\n",
              "\n",
              "          const docLinkHtml = 'Like what you see? Visit the ' +\n",
              "            '<a target=\"_blank\" href=https://colab.research.google.com/notebooks/data_table.ipynb>data table notebook</a>'\n",
              "            + ' to learn more about interactive tables.';\n",
              "          element.innerHTML = '';\n",
              "          dataTable['output_type'] = 'display_data';\n",
              "          await google.colab.output.renderOutput(dataTable, element);\n",
              "          const docLink = document.createElement('div');\n",
              "          docLink.innerHTML = docLinkHtml;\n",
              "          element.appendChild(docLink);\n",
              "        }\n",
              "      </script>\n",
              "    </div>\n",
              "  </div>\n",
              "  "
            ]
          },
          "metadata": {},
          "execution_count": 15
        }
      ]
    },
    {
      "cell_type": "code",
      "source": [
        "conditions = [\n",
        "    df['DateTime']< dti[0]+pd.Timedelta(\"1 day\"),\n",
        "    df['DateTime']< dti[1]+pd.Timedelta(\"1 day\"),\n",
        "    df['DateTime']< dti[2]+pd.Timedelta(\"1 day\"),\n",
        "    df['DateTime']< dti[3]+pd.Timedelta(\"1 day\"),\n",
        "    df['DateTime']< dti[4]+pd.Timedelta(\"1 day\"),\n",
        "    df['DateTime']< dti[5]+pd.Timedelta(\"1 day\"),\n",
        "    df['DateTime']< dti[6]+pd.Timedelta(\"1 day\"),\n",
        "    df['DateTime']< dti[7]+pd.Timedelta(\"1 day\"),\n",
        "    df['DateTime']< dti[8]+pd.Timedelta(\"1 day\"),\n",
        "    df['DateTime']< dti[9]+pd.Timedelta(\"1 day\"),\n",
        "    df['DateTime']< dti[10]+pd.Timedelta(\"1 day\"),\n",
        "    df['DateTime']< dti[11]+pd.Timedelta(\"1 day\")\n",
        "]\n",
        "\n",
        "values = [1,2,3,4,5,6,7,8,9,10,11,12]\n",
        "\n",
        "df['state'] = np.select(conditions,values)"
      ],
      "metadata": {
        "id": "-5NELmkwrxfQ"
      },
      "execution_count": 16,
      "outputs": []
    },
    {
      "cell_type": "code",
      "source": [
        "df.head()"
      ],
      "metadata": {
        "colab": {
          "base_uri": "https://localhost:8080/",
          "height": 472
        },
        "id": "nn34R_lD0bsu",
        "outputId": "23f0a54a-ea51-44d3-a8a3-8adbea0efcee"
      },
      "execution_count": 17,
      "outputs": [
        {
          "output_type": "execute_result",
          "data": {
            "text/plain": [
              "             DateTime  Temperature  Humidity  Wind Speed  \\\n",
              "0 2017-01-01 00:00:00        6.559      73.8       0.083   \n",
              "1 2017-01-01 00:10:00        6.414      74.5       0.083   \n",
              "2 2017-01-01 00:20:00        6.313      74.5       0.080   \n",
              "3 2017-01-01 00:30:00        6.121      75.0       0.083   \n",
              "4 2017-01-01 00:40:00        5.921      75.7       0.081   \n",
              "\n",
              "   general diffuse flows  diffuse flows  Zone 1 Power Consumption  \\\n",
              "0                  0.051          0.119               34055.69620   \n",
              "1                  0.070          0.085               29814.68354   \n",
              "2                  0.062          0.100               29128.10127   \n",
              "3                  0.091          0.096               28228.86076   \n",
              "4                  0.048          0.085               27335.69620   \n",
              "\n",
              "   Zone 2  Power Consumption  Zone 3  Power Consumption  Total_Consumption  \\\n",
              "0                16128.87538                20240.96386        70425.53544   \n",
              "1                19375.07599                20131.08434        69320.84387   \n",
              "2                19006.68693                19668.43373        67803.22193   \n",
              "3                18361.09422                18899.27711        65489.23209   \n",
              "4                17872.34043                18442.40964        63650.44627   \n",
              "\n",
              "   state  \n",
              "0      1  \n",
              "1      1  \n",
              "2      1  \n",
              "3      1  \n",
              "4      1  "
            ],
            "text/html": [
              "\n",
              "  <div id=\"df-bff1a39b-02c2-493a-b43c-d05d67f521b9\">\n",
              "    <div class=\"colab-df-container\">\n",
              "      <div>\n",
              "<style scoped>\n",
              "    .dataframe tbody tr th:only-of-type {\n",
              "        vertical-align: middle;\n",
              "    }\n",
              "\n",
              "    .dataframe tbody tr th {\n",
              "        vertical-align: top;\n",
              "    }\n",
              "\n",
              "    .dataframe thead th {\n",
              "        text-align: right;\n",
              "    }\n",
              "</style>\n",
              "<table border=\"1\" class=\"dataframe\">\n",
              "  <thead>\n",
              "    <tr style=\"text-align: right;\">\n",
              "      <th></th>\n",
              "      <th>DateTime</th>\n",
              "      <th>Temperature</th>\n",
              "      <th>Humidity</th>\n",
              "      <th>Wind Speed</th>\n",
              "      <th>general diffuse flows</th>\n",
              "      <th>diffuse flows</th>\n",
              "      <th>Zone 1 Power Consumption</th>\n",
              "      <th>Zone 2  Power Consumption</th>\n",
              "      <th>Zone 3  Power Consumption</th>\n",
              "      <th>Total_Consumption</th>\n",
              "      <th>state</th>\n",
              "    </tr>\n",
              "  </thead>\n",
              "  <tbody>\n",
              "    <tr>\n",
              "      <th>0</th>\n",
              "      <td>2017-01-01 00:00:00</td>\n",
              "      <td>6.559</td>\n",
              "      <td>73.8</td>\n",
              "      <td>0.083</td>\n",
              "      <td>0.051</td>\n",
              "      <td>0.119</td>\n",
              "      <td>34055.69620</td>\n",
              "      <td>16128.87538</td>\n",
              "      <td>20240.96386</td>\n",
              "      <td>70425.53544</td>\n",
              "      <td>1</td>\n",
              "    </tr>\n",
              "    <tr>\n",
              "      <th>1</th>\n",
              "      <td>2017-01-01 00:10:00</td>\n",
              "      <td>6.414</td>\n",
              "      <td>74.5</td>\n",
              "      <td>0.083</td>\n",
              "      <td>0.070</td>\n",
              "      <td>0.085</td>\n",
              "      <td>29814.68354</td>\n",
              "      <td>19375.07599</td>\n",
              "      <td>20131.08434</td>\n",
              "      <td>69320.84387</td>\n",
              "      <td>1</td>\n",
              "    </tr>\n",
              "    <tr>\n",
              "      <th>2</th>\n",
              "      <td>2017-01-01 00:20:00</td>\n",
              "      <td>6.313</td>\n",
              "      <td>74.5</td>\n",
              "      <td>0.080</td>\n",
              "      <td>0.062</td>\n",
              "      <td>0.100</td>\n",
              "      <td>29128.10127</td>\n",
              "      <td>19006.68693</td>\n",
              "      <td>19668.43373</td>\n",
              "      <td>67803.22193</td>\n",
              "      <td>1</td>\n",
              "    </tr>\n",
              "    <tr>\n",
              "      <th>3</th>\n",
              "      <td>2017-01-01 00:30:00</td>\n",
              "      <td>6.121</td>\n",
              "      <td>75.0</td>\n",
              "      <td>0.083</td>\n",
              "      <td>0.091</td>\n",
              "      <td>0.096</td>\n",
              "      <td>28228.86076</td>\n",
              "      <td>18361.09422</td>\n",
              "      <td>18899.27711</td>\n",
              "      <td>65489.23209</td>\n",
              "      <td>1</td>\n",
              "    </tr>\n",
              "    <tr>\n",
              "      <th>4</th>\n",
              "      <td>2017-01-01 00:40:00</td>\n",
              "      <td>5.921</td>\n",
              "      <td>75.7</td>\n",
              "      <td>0.081</td>\n",
              "      <td>0.048</td>\n",
              "      <td>0.085</td>\n",
              "      <td>27335.69620</td>\n",
              "      <td>17872.34043</td>\n",
              "      <td>18442.40964</td>\n",
              "      <td>63650.44627</td>\n",
              "      <td>1</td>\n",
              "    </tr>\n",
              "  </tbody>\n",
              "</table>\n",
              "</div>\n",
              "      <button class=\"colab-df-convert\" onclick=\"convertToInteractive('df-bff1a39b-02c2-493a-b43c-d05d67f521b9')\"\n",
              "              title=\"Convert this dataframe to an interactive table.\"\n",
              "              style=\"display:none;\">\n",
              "        \n",
              "  <svg xmlns=\"http://www.w3.org/2000/svg\" height=\"24px\"viewBox=\"0 0 24 24\"\n",
              "       width=\"24px\">\n",
              "    <path d=\"M0 0h24v24H0V0z\" fill=\"none\"/>\n",
              "    <path d=\"M18.56 5.44l.94 2.06.94-2.06 2.06-.94-2.06-.94-.94-2.06-.94 2.06-2.06.94zm-11 1L8.5 8.5l.94-2.06 2.06-.94-2.06-.94L8.5 2.5l-.94 2.06-2.06.94zm10 10l.94 2.06.94-2.06 2.06-.94-2.06-.94-.94-2.06-.94 2.06-2.06.94z\"/><path d=\"M17.41 7.96l-1.37-1.37c-.4-.4-.92-.59-1.43-.59-.52 0-1.04.2-1.43.59L10.3 9.45l-7.72 7.72c-.78.78-.78 2.05 0 2.83L4 21.41c.39.39.9.59 1.41.59.51 0 1.02-.2 1.41-.59l7.78-7.78 2.81-2.81c.8-.78.8-2.07 0-2.86zM5.41 20L4 18.59l7.72-7.72 1.47 1.35L5.41 20z\"/>\n",
              "  </svg>\n",
              "      </button>\n",
              "      \n",
              "  <style>\n",
              "    .colab-df-container {\n",
              "      display:flex;\n",
              "      flex-wrap:wrap;\n",
              "      gap: 12px;\n",
              "    }\n",
              "\n",
              "    .colab-df-convert {\n",
              "      background-color: #E8F0FE;\n",
              "      border: none;\n",
              "      border-radius: 50%;\n",
              "      cursor: pointer;\n",
              "      display: none;\n",
              "      fill: #1967D2;\n",
              "      height: 32px;\n",
              "      padding: 0 0 0 0;\n",
              "      width: 32px;\n",
              "    }\n",
              "\n",
              "    .colab-df-convert:hover {\n",
              "      background-color: #E2EBFA;\n",
              "      box-shadow: 0px 1px 2px rgba(60, 64, 67, 0.3), 0px 1px 3px 1px rgba(60, 64, 67, 0.15);\n",
              "      fill: #174EA6;\n",
              "    }\n",
              "\n",
              "    [theme=dark] .colab-df-convert {\n",
              "      background-color: #3B4455;\n",
              "      fill: #D2E3FC;\n",
              "    }\n",
              "\n",
              "    [theme=dark] .colab-df-convert:hover {\n",
              "      background-color: #434B5C;\n",
              "      box-shadow: 0px 1px 3px 1px rgba(0, 0, 0, 0.15);\n",
              "      filter: drop-shadow(0px 1px 2px rgba(0, 0, 0, 0.3));\n",
              "      fill: #FFFFFF;\n",
              "    }\n",
              "  </style>\n",
              "\n",
              "      <script>\n",
              "        const buttonEl =\n",
              "          document.querySelector('#df-bff1a39b-02c2-493a-b43c-d05d67f521b9 button.colab-df-convert');\n",
              "        buttonEl.style.display =\n",
              "          google.colab.kernel.accessAllowed ? 'block' : 'none';\n",
              "\n",
              "        async function convertToInteractive(key) {\n",
              "          const element = document.querySelector('#df-bff1a39b-02c2-493a-b43c-d05d67f521b9');\n",
              "          const dataTable =\n",
              "            await google.colab.kernel.invokeFunction('convertToInteractive',\n",
              "                                                     [key], {});\n",
              "          if (!dataTable) return;\n",
              "\n",
              "          const docLinkHtml = 'Like what you see? Visit the ' +\n",
              "            '<a target=\"_blank\" href=https://colab.research.google.com/notebooks/data_table.ipynb>data table notebook</a>'\n",
              "            + ' to learn more about interactive tables.';\n",
              "          element.innerHTML = '';\n",
              "          dataTable['output_type'] = 'display_data';\n",
              "          await google.colab.output.renderOutput(dataTable, element);\n",
              "          const docLink = document.createElement('div');\n",
              "          docLink.innerHTML = docLinkHtml;\n",
              "          element.appendChild(docLink);\n",
              "        }\n",
              "      </script>\n",
              "    </div>\n",
              "  </div>\n",
              "  "
            ]
          },
          "metadata": {},
          "execution_count": 17
        }
      ]
    },
    {
      "cell_type": "code",
      "source": [
        "import matplotlib.pyplot as plt\n",
        "\n",
        "\n",
        "plt.plot(df['state'], df['Total_Consumption'])"
      ],
      "metadata": {
        "colab": {
          "base_uri": "https://localhost:8080/",
          "height": 282
        },
        "id": "hBZQdFtw3TMI",
        "outputId": "4e5a0cf0-3a6f-40dd-a81e-cd48c5a14ccd"
      },
      "execution_count": 18,
      "outputs": [
        {
          "output_type": "execute_result",
          "data": {
            "text/plain": [
              "[<matplotlib.lines.Line2D at 0x7fd76f359f90>]"
            ]
          },
          "metadata": {},
          "execution_count": 18
        },
        {
          "output_type": "display_data",
          "data": {
            "text/plain": [
              "<Figure size 432x288 with 1 Axes>"
            ],
            "image/png": "[encoded data removed]"
          },
          "metadata": {
            "needs_background": "light"
          }
        }
      ]
    },
    {
      "cell_type": "code",
      "source": [
        "plt.plot(df['DateTime'], df['Total_Consumption'])\n",
        "#plt.plot(df['DateTime'], df['Zone 1 Power Consumption'])\n",
        "#plt.plot(df['DateTime'], df['Zone 2  Power Consumption'])\n",
        "#plt.plot(df['DateTime'], df['Zone 3  Power Consumption'])\n",
        "plt.figure(figsize=(80,60),dpi=120)"
      ],
      "metadata": {
        "colab": {
          "base_uri": "https://localhost:8080/",
          "height": 299
        },
        "id": "-yVu3c5G4bhr",
        "outputId": "c42f051a-856c-465e-a52b-8029b63d9200"
      },
      "execution_count": 19,
      "outputs": [
        {
          "output_type": "execute_result",
          "data": {
            "text/plain": [
              "<Figure size 9600x7200 with 0 Axes>"
            ]
          },
          "metadata": {},
          "execution_count": 19
        },
        {
          "output_type": "display_data",
          "data": {
            "text/plain": [
              "<Figure size 432x288 with 1 Axes>"
            ],
            "image/png": "[encoded data removed]"
          },
          "metadata": {
            "needs_background": "light"
          }
        },
        {
          "output_type": "display_data",
          "data": {
            "text/plain": [
              "<Figure size 9600x7200 with 0 Axes>"
            ]
          },
          "metadata": {}
        }
      ]
    },
    {
      "cell_type": "code",
      "source": [
        "df.describe()"
      ],
      "metadata": {
        "colab": {
          "base_uri": "https://localhost:8080/",
          "height": 395
        },
        "id": "MdCjQpyF5kQ9",
        "outputId": "f178979f-0bbe-4451-fc61-e46678834f5a"
      },
      "execution_count": 20,
      "outputs": [
        {
          "output_type": "execute_result",
          "data": {
            "text/plain": [
              "        Temperature      Humidity    Wind Speed  general diffuse flows  \\\n",
              "count  52416.000000  52416.000000  52416.000000           52416.000000   \n",
              "mean      18.810024     68.259518      1.959489             182.696614   \n",
              "std        5.815476     15.551177      2.348862             264.400960   \n",
              "min        3.247000     11.340000      0.050000               0.004000   \n",
              "25%       14.410000     58.310000      0.078000               0.062000   \n",
              "50%       18.780000     69.860000      0.086000               5.035500   \n",
              "75%       22.890000     81.400000      4.915000             319.600000   \n",
              "max       40.010000     94.800000      6.483000            1163.000000   \n",
              "\n",
              "       diffuse flows  Zone 1 Power Consumption  Zone 2  Power Consumption  \\\n",
              "count   52416.000000              52416.000000               52416.000000   \n",
              "mean       75.028022              32344.970564               21042.509082   \n",
              "std       124.210949               7130.562564                5201.465892   \n",
              "min         0.011000              13895.696200                8560.081466   \n",
              "25%         0.122000              26310.668692               16980.766032   \n",
              "50%         4.456000              32265.920340               20823.168405   \n",
              "75%       101.000000              37309.018185               24713.717520   \n",
              "max       936.000000              52204.395120               37408.860760   \n",
              "\n",
              "       Zone 3  Power Consumption  Total_Consumption         state  \n",
              "count               52416.000000       52416.000000  52416.000000  \n",
              "mean                17835.406218       71222.885864      0.214286  \n",
              "std                  6622.165099       17143.138964      1.319026  \n",
              "min                  5935.174070       36785.039739      0.000000  \n",
              "25%                 13129.326630       56499.074640      0.000000  \n",
              "50%                 16415.117470       69788.790940      0.000000  \n",
              "75%                 21624.100420       83749.172310      0.000000  \n",
              "max                 47598.326360      134208.145950     12.000000  "
            ],
            "text/html": [
              "\n",
              "  <div id=\"df-67a98720-6feb-4a9a-8e03-c5e71beadfa6\">\n",
              "    <div class=\"colab-df-container\">\n",
              "      <div>\n",
              "<style scoped>\n",
              "    .dataframe tbody tr th:only-of-type {\n",
              "        vertical-align: middle;\n",
              "    }\n",
              "\n",
              "    .dataframe tbody tr th {\n",
              "        vertical-align: top;\n",
              "    }\n",
              "\n",
              "    .dataframe thead th {\n",
              "        text-align: right;\n",
              "    }\n",
              "</style>\n",
              "<table border=\"1\" class=\"dataframe\">\n",
              "  <thead>\n",
              "    <tr style=\"text-align: right;\">\n",
              "      <th></th>\n",
              "      <th>Temperature</th>\n",
              "      <th>Humidity</th>\n",
              "      <th>Wind Speed</th>\n",
              "      <th>general diffuse flows</th>\n",
              "      <th>diffuse flows</th>\n",
              "      <th>Zone 1 Power Consumption</th>\n",
              "      <th>Zone 2  Power Consumption</th>\n",
              "      <th>Zone 3  Power Consumption</th>\n",
              "      <th>Total_Consumption</th>\n",
              "      <th>state</th>\n",
              "    </tr>\n",
              "  </thead>\n",
              "  <tbody>\n",
              "    <tr>\n",
              "      <th>count</th>\n",
              "      <td>52416.000000</td>\n",
              "      <td>52416.000000</td>\n",
              "      <td>52416.000000</td>\n",
              "      <td>52416.000000</td>\n",
              "      <td>52416.000000</td>\n",
              "      <td>52416.000000</td>\n",
              "      <td>52416.000000</td>\n",
              "      <td>52416.000000</td>\n",
              "      <td>52416.000000</td>\n",
              "      <td>52416.000000</td>\n",
              "    </tr>\n",
              "    <tr>\n",
              "      <th>mean</th>\n",
              "      <td>18.810024</td>\n",
              "      <td>68.259518</td>\n",
              "      <td>1.959489</td>\n",
              "      <td>182.696614</td>\n",
              "      <td>75.028022</td>\n",
              "      <td>32344.970564</td>\n",
              "      <td>21042.509082</td>\n",
              "      <td>17835.406218</td>\n",
              "      <td>71222.885864</td>\n",
              "      <td>0.214286</td>\n",
              "    </tr>\n",
              "    <tr>\n",
              "      <th>std</th>\n",
              "      <td>5.815476</td>\n",
              "      <td>15.551177</td>\n",
              "      <td>2.348862</td>\n",
              "      <td>264.400960</td>\n",
              "      <td>124.210949</td>\n",
              "      <td>7130.562564</td>\n",
              "      <td>5201.465892</td>\n",
              "      <td>6622.165099</td>\n",
              "      <td>17143.138964</td>\n",
              "      <td>1.319026</td>\n",
              "    </tr>\n",
              "    <tr>\n",
              "      <th>min</th>\n",
              "      <td>3.247000</td>\n",
              "      <td>11.340000</td>\n",
              "      <td>0.050000</td>\n",
              "      <td>0.004000</td>\n",
              "      <td>0.011000</td>\n",
              "      <td>13895.696200</td>\n",
              "      <td>8560.081466</td>\n",
              "      <td>5935.174070</td>\n",
              "      <td>36785.039739</td>\n",
              "      <td>0.000000</td>\n",
              "    </tr>\n",
              "    <tr>\n",
              "      <th>25%</th>\n",
              "      <td>14.410000</td>\n",
              "      <td>58.310000</td>\n",
              "      <td>0.078000</td>\n",
              "      <td>0.062000</td>\n",
              "      <td>0.122000</td>\n",
              "      <td>26310.668692</td>\n",
              "      <td>16980.766032</td>\n",
              "      <td>13129.326630</td>\n",
              "      <td>56499.074640</td>\n",
              "      <td>0.000000</td>\n",
              "    </tr>\n",
              "    <tr>\n",
              "      <th>50%</th>\n",
              "      <td>18.780000</td>\n",
              "      <td>69.860000</td>\n",
              "      <td>0.086000</td>\n",
              "      <td>5.035500</td>\n",
              "      <td>4.456000</td>\n",
              "      <td>32265.920340</td>\n",
              "      <td>20823.168405</td>\n",
              "      <td>16415.117470</td>\n",
              "      <td>69788.790940</td>\n",
              "      <td>0.000000</td>\n",
              "    </tr>\n",
              "    <tr>\n",
              "      <th>75%</th>\n",
              "      <td>22.890000</td>\n",
              "      <td>81.400000</td>\n",
              "      <td>4.915000</td>\n",
              "      <td>319.600000</td>\n",
              "      <td>101.000000</td>\n",
              "      <td>37309.018185</td>\n",
              "      <td>24713.717520</td>\n",
              "      <td>21624.100420</td>\n",
              "      <td>83749.172310</td>\n",
              "      <td>0.000000</td>\n",
              "    </tr>\n",
              "    <tr>\n",
              "      <th>max</th>\n",
              "      <td>40.010000</td>\n",
              "      <td>94.800000</td>\n",
              "      <td>6.483000</td>\n",
              "      <td>1163.000000</td>\n",
              "      <td>936.000000</td>\n",
              "      <td>52204.395120</td>\n",
              "      <td>37408.860760</td>\n",
              "      <td>47598.326360</td>\n",
              "      <td>134208.145950</td>\n",
              "      <td>12.000000</td>\n",
              "    </tr>\n",
              "  </tbody>\n",
              "</table>\n",
              "</div>\n",
              "      <button class=\"colab-df-convert\" onclick=\"convertToInteractive('df-67a98720-6feb-4a9a-8e03-c5e71beadfa6')\"\n",
              "              title=\"Convert this dataframe to an interactive table.\"\n",
              "              style=\"display:none;\">\n",
              "        \n",
              "  <svg xmlns=\"http://www.w3.org/2000/svg\" height=\"24px\"viewBox=\"0 0 24 24\"\n",
              "       width=\"24px\">\n",
              "    <path d=\"M0 0h24v24H0V0z\" fill=\"none\"/>\n",
              "    <path d=\"M18.56 5.44l.94 2.06.94-2.06 2.06-.94-2.06-.94-.94-2.06-.94 2.06-2.06.94zm-11 1L8.5 8.5l.94-2.06 2.06-.94-2.06-.94L8.5 2.5l-.94 2.06-2.06.94zm10 10l.94 2.06.94-2.06 2.06-.94-2.06-.94-.94-2.06-.94 2.06-2.06.94z\"/><path d=\"M17.41 7.96l-1.37-1.37c-.4-.4-.92-.59-1.43-.59-.52 0-1.04.2-1.43.59L10.3 9.45l-7.72 7.72c-.78.78-.78 2.05 0 2.83L4 21.41c.39.39.9.59 1.41.59.51 0 1.02-.2 1.41-.59l7.78-7.78 2.81-2.81c.8-.78.8-2.07 0-2.86zM5.41 20L4 18.59l7.72-7.72 1.47 1.35L5.41 20z\"/>\n",
              "  </svg>\n",
              "      </button>\n",
              "      \n",
              "  <style>\n",
              "    .colab-df-container {\n",
              "      display:flex;\n",
              "      flex-wrap:wrap;\n",
              "      gap: 12px;\n",
              "    }\n",
              "\n",
              "    .colab-df-convert {\n",
              "      background-color: #E8F0FE;\n",
              "      border: none;\n",
              "      border-radius: 50%;\n",
              "      cursor: pointer;\n",
              "      display: none;\n",
              "      fill: #1967D2;\n",
              "      height: 32px;\n",
              "      padding: 0 0 0 0;\n",
              "      width: 32px;\n",
              "    }\n",
              "\n",
              "    .colab-df-convert:hover {\n",
              "      background-color: #E2EBFA;\n",
              "      box-shadow: 0px 1px 2px rgba(60, 64, 67, 0.3), 0px 1px 3px 1px rgba(60, 64, 67, 0.15);\n",
              "      fill: #174EA6;\n",
              "    }\n",
              "\n",
              "    [theme=dark] .colab-df-convert {\n",
              "      background-color: #3B4455;\n",
              "      fill: #D2E3FC;\n",
              "    }\n",
              "\n",
              "    [theme=dark] .colab-df-convert:hover {\n",
              "      background-color: #434B5C;\n",
              "      box-shadow: 0px 1px 3px 1px rgba(0, 0, 0, 0.15);\n",
              "      filter: drop-shadow(0px 1px 2px rgba(0, 0, 0, 0.3));\n",
              "      fill: #FFFFFF;\n",
              "    }\n",
              "  </style>\n",
              "\n",
              "      <script>\n",
              "        const buttonEl =\n",
              "          document.querySelector('#df-67a98720-6feb-4a9a-8e03-c5e71beadfa6 button.colab-df-convert');\n",
              "        buttonEl.style.display =\n",
              "          google.colab.kernel.accessAllowed ? 'block' : 'none';\n",
              "\n",
              "        async function convertToInteractive(key) {\n",
              "          const element = document.querySelector('#df-67a98720-6feb-4a9a-8e03-c5e71beadfa6');\n",
              "          const dataTable =\n",
              "            await google.colab.kernel.invokeFunction('convertToInteractive',\n",
              "                                                     [key], {});\n",
              "          if (!dataTable) return;\n",
              "\n",
              "          const docLinkHtml = 'Like what you see? Visit the ' +\n",
              "            '<a target=\"_blank\" href=https://colab.research.google.com/notebooks/data_table.ipynb>data table notebook</a>'\n",
              "            + ' to learn more about interactive tables.';\n",
              "          element.innerHTML = '';\n",
              "          dataTable['output_type'] = 'display_data';\n",
              "          await google.colab.output.renderOutput(dataTable, element);\n",
              "          const docLink = document.createElement('div');\n",
              "          docLink.innerHTML = docLinkHtml;\n",
              "          element.appendChild(docLink);\n",
              "        }\n",
              "      </script>\n",
              "    </div>\n",
              "  </div>\n",
              "  "
            ]
          },
          "metadata": {},
          "execution_count": 20
        }
      ]
    },
    {
      "cell_type": "code",
      "source": [
        "df.nunique()"
      ],
      "metadata": {
        "colab": {
          "base_uri": "https://localhost:8080/"
        },
        "id": "BdSA87-lToaG",
        "outputId": "2443ee25-02fd-426e-c489-240f38ded576"
      },
      "execution_count": 21,
      "outputs": [
        {
          "output_type": "execute_result",
          "data": {
            "text/plain": [
              "DateTime                     52416\n",
              "Temperature                   3437\n",
              "Humidity                      4443\n",
              "Wind Speed                     548\n",
              "general diffuse flows        10504\n",
              "diffuse flows                10449\n",
              "Zone 1 Power Consumption     27709\n",
              "Zone 2  Power Consumption    29621\n",
              "Zone 3  Power Consumption    22838\n",
              "Total_Consumption            52416\n",
              "state                           13\n",
              "dtype: int64"
            ]
          },
          "metadata": {},
          "execution_count": 21
        }
      ]
    },
    {
      "cell_type": "code",
      "source": [
        "plt.plot(a_df['Day'],a_df['AvgC'] )"
      ],
      "metadata": {
        "colab": {
          "base_uri": "https://localhost:8080/",
          "height": 282
        },
        "id": "hecEN5_9eu-U",
        "outputId": "93f80c15-4850-4a7c-9b2f-2475cea0929e"
      },
      "execution_count": 22,
      "outputs": [
        {
          "output_type": "execute_result",
          "data": {
            "text/plain": [
              "[<matplotlib.lines.Line2D at 0x7fd76f297450>]"
            ]
          },
          "metadata": {},
          "execution_count": 22
        },
        {
          "output_type": "display_data",
          "data": {
            "text/plain": [
              "<Figure size 432x288 with 1 Axes>"
            ],
            "image/png": "[encoded data removed]"
          },
          "metadata": {
            "needs_background": "light"
          }
        }
      ]
    },
    {
      "cell_type": "code",
      "source": [
        "a_df.describe()"
      ],
      "metadata": {
        "colab": {
          "base_uri": "https://localhost:8080/",
          "height": 297
        },
        "id": "U6vaGRdDKecc",
        "outputId": "203c5c6b-0e45-4251-c3f2-eaafce9d63f2"
      },
      "execution_count": 23,
      "outputs": [
        {
          "output_type": "execute_result",
          "data": {
            "text/plain": [
              "              Day          AvgC\n",
              "count  365.000000    365.000000\n",
              "mean   183.000000  69971.119547\n",
              "std    105.510663   2458.979363\n",
              "min      1.000000  64071.818534\n",
              "25%     92.000000  67560.836907\n",
              "50%    183.000000  69244.519352\n",
              "75%    274.000000  72431.503470\n",
              "max    365.000000  73734.564706"
            ],
            "text/html": [
              "\n",
              "  <div id=\"df-760070cd-eb6b-418d-8c8f-6140e09f6563\">\n",
              "    <div class=\"colab-df-container\">\n",
              "      <div>\n",
              "<style scoped>\n",
              "    .dataframe tbody tr th:only-of-type {\n",
              "        vertical-align: middle;\n",
              "    }\n",
              "\n",
              "    .dataframe tbody tr th {\n",
              "        vertical-align: top;\n",
              "    }\n",
              "\n",
              "    .dataframe thead th {\n",
              "        text-align: right;\n",
              "    }\n",
              "</style>\n",
              "<table border=\"1\" class=\"dataframe\">\n",
              "  <thead>\n",
              "    <tr style=\"text-align: right;\">\n",
              "      <th></th>\n",
              "      <th>Day</th>\n",
              "      <th>AvgC</th>\n",
              "    </tr>\n",
              "  </thead>\n",
              "  <tbody>\n",
              "    <tr>\n",
              "      <th>count</th>\n",
              "      <td>365.000000</td>\n",
              "      <td>365.000000</td>\n",
              "    </tr>\n",
              "    <tr>\n",
              "      <th>mean</th>\n",
              "      <td>183.000000</td>\n",
              "      <td>69971.119547</td>\n",
              "    </tr>\n",
              "    <tr>\n",
              "      <th>std</th>\n",
              "      <td>105.510663</td>\n",
              "      <td>2458.979363</td>\n",
              "    </tr>\n",
              "    <tr>\n",
              "      <th>min</th>\n",
              "      <td>1.000000</td>\n",
              "      <td>64071.818534</td>\n",
              "    </tr>\n",
              "    <tr>\n",
              "      <th>25%</th>\n",
              "      <td>92.000000</td>\n",
              "      <td>67560.836907</td>\n",
              "    </tr>\n",
              "    <tr>\n",
              "      <th>50%</th>\n",
              "      <td>183.000000</td>\n",
              "      <td>69244.519352</td>\n",
              "    </tr>\n",
              "    <tr>\n",
              "      <th>75%</th>\n",
              "      <td>274.000000</td>\n",
              "      <td>72431.503470</td>\n",
              "    </tr>\n",
              "    <tr>\n",
              "      <th>max</th>\n",
              "      <td>365.000000</td>\n",
              "      <td>73734.564706</td>\n",
              "    </tr>\n",
              "  </tbody>\n",
              "</table>\n",
              "</div>\n",
              "      <button class=\"colab-df-convert\" onclick=\"convertToInteractive('df-760070cd-eb6b-418d-8c8f-6140e09f6563')\"\n",
              "              title=\"Convert this dataframe to an interactive table.\"\n",
              "              style=\"display:none;\">\n",
              "        \n",
              "  <svg xmlns=\"http://www.w3.org/2000/svg\" height=\"24px\"viewBox=\"0 0 24 24\"\n",
              "       width=\"24px\">\n",
              "    <path d=\"M0 0h24v24H0V0z\" fill=\"none\"/>\n",
              "    <path d=\"M18.56 5.44l.94 2.06.94-2.06 2.06-.94-2.06-.94-.94-2.06-.94 2.06-2.06.94zm-11 1L8.5 8.5l.94-2.06 2.06-.94-2.06-.94L8.5 2.5l-.94 2.06-2.06.94zm10 10l.94 2.06.94-2.06 2.06-.94-2.06-.94-.94-2.06-.94 2.06-2.06.94z\"/><path d=\"M17.41 7.96l-1.37-1.37c-.4-.4-.92-.59-1.43-.59-.52 0-1.04.2-1.43.59L10.3 9.45l-7.72 7.72c-.78.78-.78 2.05 0 2.83L4 21.41c.39.39.9.59 1.41.59.51 0 1.02-.2 1.41-.59l7.78-7.78 2.81-2.81c.8-.78.8-2.07 0-2.86zM5.41 20L4 18.59l7.72-7.72 1.47 1.35L5.41 20z\"/>\n",
              "  </svg>\n",
              "      </button>\n",
              "      \n",
              "  <style>\n",
              "    .colab-df-container {\n",
              "      display:flex;\n",
              "      flex-wrap:wrap;\n",
              "      gap: 12px;\n",
              "    }\n",
              "\n",
              "    .colab-df-convert {\n",
              "      background-color: #E8F0FE;\n",
              "      border: none;\n",
              "      border-radius: 50%;\n",
              "      cursor: pointer;\n",
              "      display: none;\n",
              "      fill: #1967D2;\n",
              "      height: 32px;\n",
              "      padding: 0 0 0 0;\n",
              "      width: 32px;\n",
              "    }\n",
              "\n",
              "    .colab-df-convert:hover {\n",
              "      background-color: #E2EBFA;\n",
              "      box-shadow: 0px 1px 2px rgba(60, 64, 67, 0.3), 0px 1px 3px 1px rgba(60, 64, 67, 0.15);\n",
              "      fill: #174EA6;\n",
              "    }\n",
              "\n",
              "    [theme=dark] .colab-df-convert {\n",
              "      background-color: #3B4455;\n",
              "      fill: #D2E3FC;\n",
              "    }\n",
              "\n",
              "    [theme=dark] .colab-df-convert:hover {\n",
              "      background-color: #434B5C;\n",
              "      box-shadow: 0px 1px 3px 1px rgba(0, 0, 0, 0.15);\n",
              "      filter: drop-shadow(0px 1px 2px rgba(0, 0, 0, 0.3));\n",
              "      fill: #FFFFFF;\n",
              "    }\n",
              "  </style>\n",
              "\n",
              "      <script>\n",
              "        const buttonEl =\n",
              "          document.querySelector('#df-760070cd-eb6b-418d-8c8f-6140e09f6563 button.colab-df-convert');\n",
              "        buttonEl.style.display =\n",
              "          google.colab.kernel.accessAllowed ? 'block' : 'none';\n",
              "\n",
              "        async function convertToInteractive(key) {\n",
              "          const element = document.querySelector('#df-760070cd-eb6b-418d-8c8f-6140e09f6563');\n",
              "          const dataTable =\n",
              "            await google.colab.kernel.invokeFunction('convertToInteractive',\n",
              "                                                     [key], {});\n",
              "          if (!dataTable) return;\n",
              "\n",
              "          const docLinkHtml = 'Like what you see? Visit the ' +\n",
              "            '<a target=\"_blank\" href=https://colab.research.google.com/notebooks/data_table.ipynb>data table notebook</a>'\n",
              "            + ' to learn more about interactive tables.';\n",
              "          element.innerHTML = '';\n",
              "          dataTable['output_type'] = 'display_data';\n",
              "          await google.colab.output.renderOutput(dataTable, element);\n",
              "          const docLink = document.createElement('div');\n",
              "          docLink.innerHTML = docLinkHtml;\n",
              "          element.appendChild(docLink);\n",
              "        }\n",
              "      </script>\n",
              "    </div>\n",
              "  </div>\n",
              "  "
            ]
          },
          "metadata": {},
          "execution_count": 23
        }
      ]
    },
    {
      "cell_type": "code",
      "source": [
        "minimum = min(df['Total_Consumption'])\n",
        "maximum = max(df['Total_Consumption'])\n",
        "states = (maximum - minimum)/9\n",
        "print(states)"
      ],
      "metadata": {
        "colab": {
          "base_uri": "https://localhost:8080/"
        },
        "id": "20em-LBwOS9G",
        "outputId": "e5fc842a-f939-491b-b056-6586eca348d0"
      },
      "execution_count": 24,
      "outputs": [
        {
          "output_type": "stream",
          "name": "stdout",
          "text": [
            "10824.789579\n"
          ]
        }
      ]
    },
    {
      "cell_type": "code",
      "source": [
        "conditions = [\n",
        "    (df['Total_Consumption']< minimum+states) & (df['Total_Consumption']>= minimum),\n",
        "    (df['Total_Consumption']< minimum+2*states) & (df['Total_Consumption']>= minimum+1*states),\n",
        "    (df['Total_Consumption']< minimum+3*states) & (df['Total_Consumption']>= minimum+2*states),\n",
        "    (df['Total_Consumption']< minimum+4*states) & (df['Total_Consumption']>= minimum+3*states),\n",
        "    (df['Total_Consumption']< minimum+5*states) & (df['Total_Consumption']>= minimum+4*states),\n",
        "    (df['Total_Consumption']< minimum+6*states) & (df['Total_Consumption']>= minimum+5*states),\n",
        "    (df['Total_Consumption']< minimum+7*states) & (df['Total_Consumption']>= minimum+6*states),\n",
        "    (df['Total_Consumption']< minimum+8*states) & (df['Total_Consumption']>= minimum+7*states),\n",
        "    (df['Total_Consumption']< minimum+9*states) & (df['Total_Consumption']>= minimum+8*states),\n",
        "    \n",
        "]\n",
        "\n",
        "values = [0,1,2,3,4,5,6,7,8]\n",
        "\n",
        "df['state'] = np.select(conditions,values)"
      ],
      "metadata": {
        "id": "KASGeRKh8xfi"
      },
      "execution_count": 25,
      "outputs": []
    },
    {
      "cell_type": "code",
      "source": [
        "df.head()"
      ],
      "metadata": {
        "colab": {
          "base_uri": "https://localhost:8080/",
          "height": 472
        },
        "id": "iSWW3gNK-FLP",
        "outputId": "ea0937b4-b4d7-47d8-ae08-d124de588aea"
      },
      "execution_count": 26,
      "outputs": [
        {
          "output_type": "execute_result",
          "data": {
            "text/plain": [
              "             DateTime  Temperature  Humidity  Wind Speed  \\\n",
              "0 2017-01-01 00:00:00        6.559      73.8       0.083   \n",
              "1 2017-01-01 00:10:00        6.414      74.5       0.083   \n",
              "2 2017-01-01 00:20:00        6.313      74.5       0.080   \n",
              "3 2017-01-01 00:30:00        6.121      75.0       0.083   \n",
              "4 2017-01-01 00:40:00        5.921      75.7       0.081   \n",
              "\n",
              "   general diffuse flows  diffuse flows  Zone 1 Power Consumption  \\\n",
              "0                  0.051          0.119               34055.69620   \n",
              "1                  0.070          0.085               29814.68354   \n",
              "2                  0.062          0.100               29128.10127   \n",
              "3                  0.091          0.096               28228.86076   \n",
              "4                  0.048          0.085               27335.69620   \n",
              "\n",
              "   Zone 2  Power Consumption  Zone 3  Power Consumption  Total_Consumption  \\\n",
              "0                16128.87538                20240.96386        70425.53544   \n",
              "1                19375.07599                20131.08434        69320.84387   \n",
              "2                19006.68693                19668.43373        67803.22193   \n",
              "3                18361.09422                18899.27711        65489.23209   \n",
              "4                17872.34043                18442.40964        63650.44627   \n",
              "\n",
              "   state  \n",
              "0      3  \n",
              "1      3  \n",
              "2      2  \n",
              "3      2  \n",
              "4      2  "
            ],
            "text/html": [
              "\n",
              "  <div id=\"df-9be0fa25-d7eb-4ec8-8ad1-78c8b4d634a6\">\n",
              "    <div class=\"colab-df-container\">\n",
              "      <div>\n",
              "<style scoped>\n",
              "    .dataframe tbody tr th:only-of-type {\n",
              "        vertical-align: middle;\n",
              "    }\n",
              "\n",
              "    .dataframe tbody tr th {\n",
              "        vertical-align: top;\n",
              "    }\n",
              "\n",
              "    .dataframe thead th {\n",
              "        text-align: right;\n",
              "    }\n",
              "</style>\n",
              "<table border=\"1\" class=\"dataframe\">\n",
              "  <thead>\n",
              "    <tr style=\"text-align: right;\">\n",
              "      <th></th>\n",
              "      <th>DateTime</th>\n",
              "      <th>Temperature</th>\n",
              "      <th>Humidity</th>\n",
              "      <th>Wind Speed</th>\n",
              "      <th>general diffuse flows</th>\n",
              "      <th>diffuse flows</th>\n",
              "      <th>Zone 1 Power Consumption</th>\n",
              "      <th>Zone 2  Power Consumption</th>\n",
              "      <th>Zone 3  Power Consumption</th>\n",
              "      <th>Total_Consumption</th>\n",
              "      <th>state</th>\n",
              "    </tr>\n",
              "  </thead>\n",
              "  <tbody>\n",
              "    <tr>\n",
              "      <th>0</th>\n",
              "      <td>2017-01-01 00:00:00</td>\n",
              "      <td>6.559</td>\n",
              "      <td>73.8</td>\n",
              "      <td>0.083</td>\n",
              "      <td>0.051</td>\n",
              "      <td>0.119</td>\n",
              "      <td>34055.69620</td>\n",
              "      <td>16128.87538</td>\n",
              "      <td>20240.96386</td>\n",
              "      <td>70425.53544</td>\n",
              "      <td>3</td>\n",
              "    </tr>\n",
              "    <tr>\n",
              "      <th>1</th>\n",
              "      <td>2017-01-01 00:10:00</td>\n",
              "      <td>6.414</td>\n",
              "      <td>74.5</td>\n",
              "      <td>0.083</td>\n",
              "      <td>0.070</td>\n",
              "      <td>0.085</td>\n",
              "      <td>29814.68354</td>\n",
              "      <td>19375.07599</td>\n",
              "      <td>20131.08434</td>\n",
              "      <td>69320.84387</td>\n",
              "      <td>3</td>\n",
              "    </tr>\n",
              "    <tr>\n",
              "      <th>2</th>\n",
              "      <td>2017-01-01 00:20:00</td>\n",
              "      <td>6.313</td>\n",
              "      <td>74.5</td>\n",
              "      <td>0.080</td>\n",
              "      <td>0.062</td>\n",
              "      <td>0.100</td>\n",
              "      <td>29128.10127</td>\n",
              "      <td>19006.68693</td>\n",
              "      <td>19668.43373</td>\n",
              "      <td>67803.22193</td>\n",
              "      <td>2</td>\n",
              "    </tr>\n",
              "    <tr>\n",
              "      <th>3</th>\n",
              "      <td>2017-01-01 00:30:00</td>\n",
              "      <td>6.121</td>\n",
              "      <td>75.0</td>\n",
              "      <td>0.083</td>\n",
              "      <td>0.091</td>\n",
              "      <td>0.096</td>\n",
              "      <td>28228.86076</td>\n",
              "      <td>18361.09422</td>\n",
              "      <td>18899.27711</td>\n",
              "      <td>65489.23209</td>\n",
              "      <td>2</td>\n",
              "    </tr>\n",
              "    <tr>\n",
              "      <th>4</th>\n",
              "      <td>2017-01-01 00:40:00</td>\n",
              "      <td>5.921</td>\n",
              "      <td>75.7</td>\n",
              "      <td>0.081</td>\n",
              "      <td>0.048</td>\n",
              "      <td>0.085</td>\n",
              "      <td>27335.69620</td>\n",
              "      <td>17872.34043</td>\n",
              "      <td>18442.40964</td>\n",
              "      <td>63650.44627</td>\n",
              "      <td>2</td>\n",
              "    </tr>\n",
              "  </tbody>\n",
              "</table>\n",
              "</div>\n",
              "      <button class=\"colab-df-convert\" onclick=\"convertToInteractive('df-9be0fa25-d7eb-4ec8-8ad1-78c8b4d634a6')\"\n",
              "              title=\"Convert this dataframe to an interactive table.\"\n",
              "              style=\"display:none;\">\n",
              "        \n",
              "  <svg xmlns=\"http://www.w3.org/2000/svg\" height=\"24px\"viewBox=\"0 0 24 24\"\n",
              "       width=\"24px\">\n",
              "    <path d=\"M0 0h24v24H0V0z\" fill=\"none\"/>\n",
              "    <path d=\"M18.56 5.44l.94 2.06.94-2.06 2.06-.94-2.06-.94-.94-2.06-.94 2.06-2.06.94zm-11 1L8.5 8.5l.94-2.06 2.06-.94-2.06-.94L8.5 2.5l-.94 2.06-2.06.94zm10 10l.94 2.06.94-2.06 2.06-.94-2.06-.94-.94-2.06-.94 2.06-2.06.94z\"/><path d=\"M17.41 7.96l-1.37-1.37c-.4-.4-.92-.59-1.43-.59-.52 0-1.04.2-1.43.59L10.3 9.45l-7.72 7.72c-.78.78-.78 2.05 0 2.83L4 21.41c.39.39.9.59 1.41.59.51 0 1.02-.2 1.41-.59l7.78-7.78 2.81-2.81c.8-.78.8-2.07 0-2.86zM5.41 20L4 18.59l7.72-7.72 1.47 1.35L5.41 20z\"/>\n",
              "  </svg>\n",
              "      </button>\n",
              "      \n",
              "  <style>\n",
              "    .colab-df-container {\n",
              "      display:flex;\n",
              "      flex-wrap:wrap;\n",
              "      gap: 12px;\n",
              "    }\n",
              "\n",
              "    .colab-df-convert {\n",
              "      background-color: #E8F0FE;\n",
              "      border: none;\n",
              "      border-radius: 50%;\n",
              "      cursor: pointer;\n",
              "      display: none;\n",
              "      fill: #1967D2;\n",
              "      height: 32px;\n",
              "      padding: 0 0 0 0;\n",
              "      width: 32px;\n",
              "    }\n",
              "\n",
              "    .colab-df-convert:hover {\n",
              "      background-color: #E2EBFA;\n",
              "      box-shadow: 0px 1px 2px rgba(60, 64, 67, 0.3), 0px 1px 3px 1px rgba(60, 64, 67, 0.15);\n",
              "      fill: #174EA6;\n",
              "    }\n",
              "\n",
              "    [theme=dark] .colab-df-convert {\n",
              "      background-color: #3B4455;\n",
              "      fill: #D2E3FC;\n",
              "    }\n",
              "\n",
              "    [theme=dark] .colab-df-convert:hover {\n",
              "      background-color: #434B5C;\n",
              "      box-shadow: 0px 1px 3px 1px rgba(0, 0, 0, 0.15);\n",
              "      filter: drop-shadow(0px 1px 2px rgba(0, 0, 0, 0.3));\n",
              "      fill: #FFFFFF;\n",
              "    }\n",
              "  </style>\n",
              "\n",
              "      <script>\n",
              "        const buttonEl =\n",
              "          document.querySelector('#df-9be0fa25-d7eb-4ec8-8ad1-78c8b4d634a6 button.colab-df-convert');\n",
              "        buttonEl.style.display =\n",
              "          google.colab.kernel.accessAllowed ? 'block' : 'none';\n",
              "\n",
              "        async function convertToInteractive(key) {\n",
              "          const element = document.querySelector('#df-9be0fa25-d7eb-4ec8-8ad1-78c8b4d634a6');\n",
              "          const dataTable =\n",
              "            await google.colab.kernel.invokeFunction('convertToInteractive',\n",
              "                                                     [key], {});\n",
              "          if (!dataTable) return;\n",
              "\n",
              "          const docLinkHtml = 'Like what you see? Visit the ' +\n",
              "            '<a target=\"_blank\" href=https://colab.research.google.com/notebooks/data_table.ipynb>data table notebook</a>'\n",
              "            + ' to learn more about interactive tables.';\n",
              "          element.innerHTML = '';\n",
              "          dataTable['output_type'] = 'display_data';\n",
              "          await google.colab.output.renderOutput(dataTable, element);\n",
              "          const docLink = document.createElement('div');\n",
              "          docLink.innerHTML = docLinkHtml;\n",
              "          element.appendChild(docLink);\n",
              "        }\n",
              "      </script>\n",
              "    </div>\n",
              "  </div>\n",
              "  "
            ]
          },
          "metadata": {},
          "execution_count": 26
        }
      ]
    },
    {
      "cell_type": "code",
      "source": [
        "\n",
        "df['state'].value_counts()\n"
      ],
      "metadata": {
        "id": "wNhy6xWy-Hfc",
        "colab": {
          "base_uri": "https://localhost:8080/"
        },
        "outputId": "003b20fc-490c-45a7-cfb2-aea52ef9dd52"
      },
      "execution_count": 27,
      "outputs": [
        {
          "output_type": "execute_result",
          "data": {
            "text/plain": [
              "1    12487\n",
              "3    12155\n",
              "2    10684\n",
              "5     6483\n",
              "4     6335\n",
              "0     2259\n",
              "6     1159\n",
              "7      635\n",
              "8      219\n",
              "Name: state, dtype: int64"
            ]
          },
          "metadata": {},
          "execution_count": 27
        }
      ]
    },
    {
      "cell_type": "code",
      "source": [
        "dfp = pd.DataFrame({\n",
        "    'state' : [0,1,2,3,4,5,6,7,8],\n",
        "    'frequency' : [2259, 12487, 10684, 12155, 6335, 6483, 1159, 635, 219]\n",
        "})"
      ],
      "metadata": {
        "id": "cC_u2nXl_MCv"
      },
      "execution_count": 28,
      "outputs": []
    },
    {
      "cell_type": "code",
      "source": [
        "plt.plot(dfp['state'],dfp['frequency'])"
      ],
      "metadata": {
        "colab": {
          "base_uri": "https://localhost:8080/",
          "height": 282
        },
        "id": "8q0fIzMg_NNi",
        "outputId": "2dea10ce-67cf-481a-e474-fbaf3170ec80"
      },
      "execution_count": 29,
      "outputs": [
        {
          "output_type": "execute_result",
          "data": {
            "text/plain": [
              "[<matplotlib.lines.Line2D at 0x7fd76f26fe10>]"
            ]
          },
          "metadata": {},
          "execution_count": 29
        },
        {
          "output_type": "display_data",
          "data": {
            "text/plain": [
              "<Figure size 432x288 with 1 Axes>"
            ],
            "image/png": "[encoded data removed]"
          },
          "metadata": {
            "needs_background": "light"
          }
        }
      ]
    },
    {
      "cell_type": "code",
      "source": [
        "plt.plot(df['DateTime'],df['state'])\n",
        "plt.figure(figsize=(10,100))"
      ],
      "metadata": {
        "colab": {
          "base_uri": "https://localhost:8080/",
          "height": 299
        },
        "id": "woTWf5kGDDCp",
        "outputId": "d0c8e4bd-62fe-4a21-d832-85b3c06f4643"
      },
      "execution_count": 30,
      "outputs": [
        {
          "output_type": "execute_result",
          "data": {
            "text/plain": [
              "<Figure size 720x7200 with 0 Axes>"
            ]
          },
          "metadata": {},
          "execution_count": 30
        },
        {
          "output_type": "display_data",
          "data": {
            "text/plain": [
              "<Figure size 432x288 with 1 Axes>"
            ],
            "image/png": "[encoded data removed]"
          },
          "metadata": {
            "needs_background": "light"
          }
        },
        {
          "output_type": "display_data",
          "data": {
            "text/plain": [
              "<Figure size 720x7200 with 0 Axes>"
            ]
          },
          "metadata": {}
        }
      ]
    },
    {
      "cell_type": "code",
      "source": [
        "df.shape"
      ],
      "metadata": {
        "colab": {
          "base_uri": "https://localhost:8080/"
        },
        "id": "mdXzFhpy9MHF",
        "outputId": "3de2a657-29b3-40f3-fc1a-38d5f101d08c"
      },
      "execution_count": 31,
      "outputs": [
        {
          "output_type": "execute_result",
          "data": {
            "text/plain": [
              "(52416, 11)"
            ]
          },
          "metadata": {},
          "execution_count": 31
        }
      ]
    },
    {
      "cell_type": "code",
      "source": [
        "def compute_transition_matrix_fast(data, n, step = 1): \n",
        "      t = np.array(data)\n",
        "      step = step\n",
        "      total_inds = t.size - (step + 1) + 1\n",
        "      t_strided = np.lib.stride_tricks.as_strided(\n",
        "                                      t,\n",
        "                                      shape = (total_inds, 2),\n",
        "                                      strides = (t.strides[0], step * t.strides[0]))\n",
        "      inds, counts = np.unique(t_strided, axis = 0, return_counts = True)\n",
        "      P = np.zeros((n, n))\n",
        "      N = np.zeros((n, n))\n",
        "      P[inds[:, 0], inds[:, 1]] = counts\n",
        "      N[inds[:, 0], inds[:, 1]] = counts\n",
        "      sums = P.sum(axis = 1)\n",
        "      P[sums != 0] = P[sums != 0] / sums[sums != 0][:, None] \n",
        "      return P, N"
      ],
      "metadata": {
        "id": "T7uRy1MrEhjJ"
      },
      "execution_count": 32,
      "outputs": []
    },
    {
      "cell_type": "code",
      "source": [
        "compute_transition_matrix_fast(df['state'],9)"
      ],
      "metadata": {
        "colab": {
          "base_uri": "https://localhost:8080/"
        },
        "id": "DVOvg9XDE6sX",
        "outputId": "96b7e588-8aa6-40b6-d934-363868dfe24a"
      },
      "execution_count": 33,
      "outputs": [
        {
          "output_type": "execute_result",
          "data": {
            "text/plain": [
              "(array([[8.83134130e-01, 1.16423196e-01, 0.00000000e+00, 0.00000000e+00,\n",
              "         0.00000000e+00, 0.00000000e+00, 0.00000000e+00, 0.00000000e+00,\n",
              "         4.42673749e-04],\n",
              "        [2.10619044e-02, 9.48906863e-01, 3.00312325e-02, 0.00000000e+00,\n",
              "         0.00000000e+00, 0.00000000e+00, 0.00000000e+00, 0.00000000e+00,\n",
              "         0.00000000e+00],\n",
              "        [0.00000000e+00, 3.50088926e-02, 9.12758588e-01, 5.22325190e-02,\n",
              "         0.00000000e+00, 0.00000000e+00, 0.00000000e+00, 0.00000000e+00,\n",
              "         0.00000000e+00],\n",
              "        [0.00000000e+00, 8.22706705e-05, 4.59070341e-02, 9.22007404e-01,\n",
              "         3.20032908e-02, 0.00000000e+00, 0.00000000e+00, 0.00000000e+00,\n",
              "         0.00000000e+00],\n",
              "        [0.00000000e+00, 0.00000000e+00, 0.00000000e+00, 6.14048934e-02,\n",
              "         8.79400158e-01, 5.91949487e-02, 0.00000000e+00, 0.00000000e+00,\n",
              "         0.00000000e+00],\n",
              "        [0.00000000e+00, 0.00000000e+00, 0.00000000e+00, 0.00000000e+00,\n",
              "         5.78435909e-02, 9.23029462e-01, 1.91269474e-02, 0.00000000e+00,\n",
              "         0.00000000e+00],\n",
              "        [0.00000000e+00, 0.00000000e+00, 0.00000000e+00, 0.00000000e+00,\n",
              "         0.00000000e+00, 1.06988783e-01, 8.47282140e-01, 4.57290768e-02,\n",
              "         0.00000000e+00],\n",
              "        [0.00000000e+00, 0.00000000e+00, 0.00000000e+00, 0.00000000e+00,\n",
              "         0.00000000e+00, 0.00000000e+00, 8.34645669e-02, 8.70866142e-01,\n",
              "         4.56692913e-02],\n",
              "        [4.56621005e-03, 0.00000000e+00, 0.00000000e+00, 0.00000000e+00,\n",
              "         0.00000000e+00, 0.00000000e+00, 0.00000000e+00, 1.32420091e-01,\n",
              "         8.63013699e-01]]),\n",
              " array([[1.9950e+03, 2.6300e+02, 0.0000e+00, 0.0000e+00, 0.0000e+00,\n",
              "         0.0000e+00, 0.0000e+00, 0.0000e+00, 1.0000e+00],\n",
              "        [2.6300e+02, 1.1849e+04, 3.7500e+02, 0.0000e+00, 0.0000e+00,\n",
              "         0.0000e+00, 0.0000e+00, 0.0000e+00, 0.0000e+00],\n",
              "        [0.0000e+00, 3.7400e+02, 9.7510e+03, 5.5800e+02, 0.0000e+00,\n",
              "         0.0000e+00, 0.0000e+00, 0.0000e+00, 0.0000e+00],\n",
              "        [0.0000e+00, 1.0000e+00, 5.5800e+02, 1.1207e+04, 3.8900e+02,\n",
              "         0.0000e+00, 0.0000e+00, 0.0000e+00, 0.0000e+00],\n",
              "        [0.0000e+00, 0.0000e+00, 0.0000e+00, 3.8900e+02, 5.5710e+03,\n",
              "         3.7500e+02, 0.0000e+00, 0.0000e+00, 0.0000e+00],\n",
              "        [0.0000e+00, 0.0000e+00, 0.0000e+00, 0.0000e+00, 3.7500e+02,\n",
              "         5.9840e+03, 1.2400e+02, 0.0000e+00, 0.0000e+00],\n",
              "        [0.0000e+00, 0.0000e+00, 0.0000e+00, 0.0000e+00, 0.0000e+00,\n",
              "         1.2400e+02, 9.8200e+02, 5.3000e+01, 0.0000e+00],\n",
              "        [0.0000e+00, 0.0000e+00, 0.0000e+00, 0.0000e+00, 0.0000e+00,\n",
              "         0.0000e+00, 5.3000e+01, 5.5300e+02, 2.9000e+01],\n",
              "        [1.0000e+00, 0.0000e+00, 0.0000e+00, 0.0000e+00, 0.0000e+00,\n",
              "         0.0000e+00, 0.0000e+00, 2.9000e+01, 1.8900e+02]]))"
            ]
          },
          "metadata": {},
          "execution_count": 33
        }
      ]
    },
    {
      "cell_type": "code",
      "source": [
        "def transition_matrix(transitions):\n",
        "    n = 1+ max(transitions) #number of states\n",
        "\n",
        "    M = [[0]*n for _ in range(n)]\n",
        "\n",
        "    for (i,j) in zip(transitions,transitions[1:]):\n",
        "        M[i][j] += 1\n",
        "\n",
        "    #now convert to probabilities:\n",
        "    for row in M:\n",
        "        s = sum(row)\n",
        "        if s > 0:\n",
        "            row[:] = [f/s for f in row]\n",
        "    return M\n"
      ],
      "metadata": {
        "id": "HkXutL-VE_TX"
      },
      "execution_count": 34,
      "outputs": []
    },
    {
      "cell_type": "code",
      "source": [
        "transition_mtx = np.array(transition_matrix(df['state']))\n",
        "x = pd.DataFrame(transition_mtx**2)\n",
        "x"
      ],
      "metadata": {
        "colab": {
          "base_uri": "https://localhost:8080/",
          "height": 328
        },
        "id": "o4fbtm00Pd3J",
        "outputId": "75e4ecbd-8315-4b99-c4c7-23f1316d4cb4"
      },
      "execution_count": 35,
      "outputs": [
        {
          "output_type": "execute_result",
          "data": {
            "text/plain": [
              "          0             1         2         3         4         5         6  \\\n",
              "0  0.779926  1.355436e-02  0.000000  0.000000  0.000000  0.000000  0.000000   \n",
              "1  0.000444  9.004242e-01  0.000902  0.000000  0.000000  0.000000  0.000000   \n",
              "2  0.000000  1.225623e-03  0.833128  0.002728  0.000000  0.000000  0.000000   \n",
              "3  0.000000  6.768463e-09  0.002107  0.850098  0.001024  0.000000  0.000000   \n",
              "4  0.000000  0.000000e+00  0.000000  0.003771  0.773345  0.003504  0.000000   \n",
              "5  0.000000  0.000000e+00  0.000000  0.000000  0.003346  0.851983  0.000366   \n",
              "6  0.000000  0.000000e+00  0.000000  0.000000  0.000000  0.011447  0.717887   \n",
              "7  0.000000  0.000000e+00  0.000000  0.000000  0.000000  0.000000  0.006966   \n",
              "8  0.000021  0.000000e+00  0.000000  0.000000  0.000000  0.000000  0.000000   \n",
              "\n",
              "          7             8  \n",
              "0  0.000000  1.959600e-07  \n",
              "1  0.000000  0.000000e+00  \n",
              "2  0.000000  0.000000e+00  \n",
              "3  0.000000  0.000000e+00  \n",
              "4  0.000000  0.000000e+00  \n",
              "5  0.000000  0.000000e+00  \n",
              "6  0.002091  0.000000e+00  \n",
              "7  0.758408  2.085684e-03  \n",
              "8  0.017535  7.447926e-01  "
            ],
            "text/html": [
              "\n",
              "  <div id=\"df-ce7303cb-edcd-4c6c-bf58-da9fbcbde78c\">\n",
              "    <div class=\"colab-df-container\">\n",
              "      <div>\n",
              "<style scoped>\n",
              "    .dataframe tbody tr th:only-of-type {\n",
              "        vertical-align: middle;\n",
              "    }\n",
              "\n",
              "    .dataframe tbody tr th {\n",
              "        vertical-align: top;\n",
              "    }\n",
              "\n",
              "    .dataframe thead th {\n",
              "        text-align: right;\n",
              "    }\n",
              "</style>\n",
              "<table border=\"1\" class=\"dataframe\">\n",
              "  <thead>\n",
              "    <tr style=\"text-align: right;\">\n",
              "      <th></th>\n",
              "      <th>0</th>\n",
              "      <th>1</th>\n",
              "      <th>2</th>\n",
              "      <th>3</th>\n",
              "      <th>4</th>\n",
              "      <th>5</th>\n",
              "      <th>6</th>\n",
              "      <th>7</th>\n",
              "      <th>8</th>\n",
              "    </tr>\n",
              "  </thead>\n",
              "  <tbody>\n",
              "    <tr>\n",
              "      <th>0</th>\n",
              "      <td>0.779926</td>\n",
              "      <td>1.355436e-02</td>\n",
              "      <td>0.000000</td>\n",
              "      <td>0.000000</td>\n",
              "      <td>0.000000</td>\n",
              "      <td>0.000000</td>\n",
              "      <td>0.000000</td>\n",
              "      <td>0.000000</td>\n",
              "      <td>1.959600e-07</td>\n",
              "    </tr>\n",
              "    <tr>\n",
              "      <th>1</th>\n",
              "      <td>0.000444</td>\n",
              "      <td>9.004242e-01</td>\n",
              "      <td>0.000902</td>\n",
              "      <td>0.000000</td>\n",
              "      <td>0.000000</td>\n",
              "      <td>0.000000</td>\n",
              "      <td>0.000000</td>\n",
              "      <td>0.000000</td>\n",
              "      <td>0.000000e+00</td>\n",
              "    </tr>\n",
              "    <tr>\n",
              "      <th>2</th>\n",
              "      <td>0.000000</td>\n",
              "      <td>1.225623e-03</td>\n",
              "      <td>0.833128</td>\n",
              "      <td>0.002728</td>\n",
              "      <td>0.000000</td>\n",
              "      <td>0.000000</td>\n",
              "      <td>0.000000</td>\n",
              "      <td>0.000000</td>\n",
              "      <td>0.000000e+00</td>\n",
              "    </tr>\n",
              "    <tr>\n",
              "      <th>3</th>\n",
              "      <td>0.000000</td>\n",
              "      <td>6.768463e-09</td>\n",
              "      <td>0.002107</td>\n",
              "      <td>0.850098</td>\n",
              "      <td>0.001024</td>\n",
              "      <td>0.000000</td>\n",
              "      <td>0.000000</td>\n",
              "      <td>0.000000</td>\n",
              "      <td>0.000000e+00</td>\n",
              "    </tr>\n",
              "    <tr>\n",
              "      <th>4</th>\n",
              "      <td>0.000000</td>\n",
              "      <td>0.000000e+00</td>\n",
              "      <td>0.000000</td>\n",
              "      <td>0.003771</td>\n",
              "      <td>0.773345</td>\n",
              "      <td>0.003504</td>\n",
              "      <td>0.000000</td>\n",
              "      <td>0.000000</td>\n",
              "      <td>0.000000e+00</td>\n",
              "    </tr>\n",
              "    <tr>\n",
              "      <th>5</th>\n",
              "      <td>0.000000</td>\n",
              "      <td>0.000000e+00</td>\n",
              "      <td>0.000000</td>\n",
              "      <td>0.000000</td>\n",
              "      <td>0.003346</td>\n",
              "      <td>0.851983</td>\n",
              "      <td>0.000366</td>\n",
              "      <td>0.000000</td>\n",
              "      <td>0.000000e+00</td>\n",
              "    </tr>\n",
              "    <tr>\n",
              "      <th>6</th>\n",
              "      <td>0.000000</td>\n",
              "      <td>0.000000e+00</td>\n",
              "      <td>0.000000</td>\n",
              "      <td>0.000000</td>\n",
              "      <td>0.000000</td>\n",
              "      <td>0.011447</td>\n",
              "      <td>0.717887</td>\n",
              "      <td>0.002091</td>\n",
              "      <td>0.000000e+00</td>\n",
              "    </tr>\n",
              "    <tr>\n",
              "      <th>7</th>\n",
              "      <td>0.000000</td>\n",
              "      <td>0.000000e+00</td>\n",
              "      <td>0.000000</td>\n",
              "      <td>0.000000</td>\n",
              "      <td>0.000000</td>\n",
              "      <td>0.000000</td>\n",
              "      <td>0.006966</td>\n",
              "      <td>0.758408</td>\n",
              "      <td>2.085684e-03</td>\n",
              "    </tr>\n",
              "    <tr>\n",
              "      <th>8</th>\n",
              "      <td>0.000021</td>\n",
              "      <td>0.000000e+00</td>\n",
              "      <td>0.000000</td>\n",
              "      <td>0.000000</td>\n",
              "      <td>0.000000</td>\n",
              "      <td>0.000000</td>\n",
              "      <td>0.000000</td>\n",
              "      <td>0.017535</td>\n",
              "      <td>7.447926e-01</td>\n",
              "    </tr>\n",
              "  </tbody>\n",
              "</table>\n",
              "</div>\n",
              "      <button class=\"colab-df-convert\" onclick=\"convertToInteractive('df-ce7303cb-edcd-4c6c-bf58-da9fbcbde78c')\"\n",
              "              title=\"Convert this dataframe to an interactive table.\"\n",
              "              style=\"display:none;\">\n",
              "        \n",
              "  <svg xmlns=\"http://www.w3.org/2000/svg\" height=\"24px\"viewBox=\"0 0 24 24\"\n",
              "       width=\"24px\">\n",
              "    <path d=\"M0 0h24v24H0V0z\" fill=\"none\"/>\n",
              "    <path d=\"M18.56 5.44l.94 2.06.94-2.06 2.06-.94-2.06-.94-.94-2.06-.94 2.06-2.06.94zm-11 1L8.5 8.5l.94-2.06 2.06-.94-2.06-.94L8.5 2.5l-.94 2.06-2.06.94zm10 10l.94 2.06.94-2.06 2.06-.94-2.06-.94-.94-2.06-.94 2.06-2.06.94z\"/><path d=\"M17.41 7.96l-1.37-1.37c-.4-.4-.92-.59-1.43-.59-.52 0-1.04.2-1.43.59L10.3 9.45l-7.72 7.72c-.78.78-.78 2.05 0 2.83L4 21.41c.39.39.9.59 1.41.59.51 0 1.02-.2 1.41-.59l7.78-7.78 2.81-2.81c.8-.78.8-2.07 0-2.86zM5.41 20L4 18.59l7.72-7.72 1.47 1.35L5.41 20z\"/>\n",
              "  </svg>\n",
              "      </button>\n",
              "      \n",
              "  <style>\n",
              "    .colab-df-container {\n",
              "      display:flex;\n",
              "      flex-wrap:wrap;\n",
              "      gap: 12px;\n",
              "    }\n",
              "\n",
              "    .colab-df-convert {\n",
              "      background-color: #E8F0FE;\n",
              "      border: none;\n",
              "      border-radius: 50%;\n",
              "      cursor: pointer;\n",
              "      display: none;\n",
              "      fill: #1967D2;\n",
              "      height: 32px;\n",
              "      padding: 0 0 0 0;\n",
              "      width: 32px;\n",
              "    }\n",
              "\n",
              "    .colab-df-convert:hover {\n",
              "      background-color: #E2EBFA;\n",
              "      box-shadow: 0px 1px 2px rgba(60, 64, 67, 0.3), 0px 1px 3px 1px rgba(60, 64, 67, 0.15);\n",
              "      fill: #174EA6;\n",
              "    }\n",
              "\n",
              "    [theme=dark] .colab-df-convert {\n",
              "      background-color: #3B4455;\n",
              "      fill: #D2E3FC;\n",
              "    }\n",
              "\n",
              "    [theme=dark] .colab-df-convert:hover {\n",
              "      background-color: #434B5C;\n",
              "      box-shadow: 0px 1px 3px 1px rgba(0, 0, 0, 0.15);\n",
              "      filter: drop-shadow(0px 1px 2px rgba(0, 0, 0, 0.3));\n",
              "      fill: #FFFFFF;\n",
              "    }\n",
              "  </style>\n",
              "\n",
              "      <script>\n",
              "        const buttonEl =\n",
              "          document.querySelector('#df-ce7303cb-edcd-4c6c-bf58-da9fbcbde78c button.colab-df-convert');\n",
              "        buttonEl.style.display =\n",
              "          google.colab.kernel.accessAllowed ? 'block' : 'none';\n",
              "\n",
              "        async function convertToInteractive(key) {\n",
              "          const element = document.querySelector('#df-ce7303cb-edcd-4c6c-bf58-da9fbcbde78c');\n",
              "          const dataTable =\n",
              "            await google.colab.kernel.invokeFunction('convertToInteractive',\n",
              "                                                     [key], {});\n",
              "          if (!dataTable) return;\n",
              "\n",
              "          const docLinkHtml = 'Like what you see? Visit the ' +\n",
              "            '<a target=\"_blank\" href=https://colab.research.google.com/notebooks/data_table.ipynb>data table notebook</a>'\n",
              "            + ' to learn more about interactive tables.';\n",
              "          element.innerHTML = '';\n",
              "          dataTable['output_type'] = 'display_data';\n",
              "          await google.colab.output.renderOutput(dataTable, element);\n",
              "          const docLink = document.createElement('div');\n",
              "          docLink.innerHTML = docLinkHtml;\n",
              "          element.appendChild(docLink);\n",
              "        }\n",
              "      </script>\n",
              "    </div>\n",
              "  </div>\n",
              "  "
            ]
          },
          "metadata": {},
          "execution_count": 35
        }
      ]
    },
    {
      "cell_type": "code",
      "source": [
        "def compute_stationary_distribution(P):\n",
        "    A = np.vstack((P.T - np.identity(P.shape[0]), np.ones((P.shape[0])))) # print(A.shape)\n",
        "    b = np.zeros((P.shape[0] + 1, 1))\n",
        "    # print(b.shape)\n",
        "    # print(b)\n",
        "    b[-1] = 1\n",
        "    # print(b)\n",
        "    # display(sp.Matrix(A))\n",
        "    return np.linalg.lstsq(A, b)[0]"
      ],
      "metadata": {
        "id": "GfT97nWIQNYK"
      },
      "execution_count": 36,
      "outputs": []
    },
    {
      "cell_type": "code",
      "source": [
        "st_mtx = compute_stationary_distribution(transition_mtx)"
      ],
      "metadata": {
        "colab": {
          "base_uri": "https://localhost:8080/"
        },
        "id": "tQISX8ogLzr8",
        "outputId": "4eea2433-cc83-4b67-883f-304c27f7bfdb"
      },
      "execution_count": 37,
      "outputs": [
        {
          "output_type": "stream",
          "name": "stderr",
          "text": [
            "/usr/local/lib/python3.7/dist-packages/ipykernel_launcher.py:9: FutureWarning: `rcond` parameter will change to the default of machine precision times ``max(M, N)`` where M and N are the input matrix dimensions.\n",
            "To use the future default and silence this warning we advise to pass `rcond=None`, to keep using the old, explicitly pass `rcond=-1`.\n",
            "  if __name__ == '__main__':\n"
          ]
        }
      ]
    },
    {
      "cell_type": "code",
      "source": [
        "st_mtx"
      ],
      "metadata": {
        "colab": {
          "base_uri": "https://localhost:8080/"
        },
        "id": "KSQEUx8pL6gq",
        "outputId": "6f7a4ed8-d728-400f-a9cb-fb18c53bb899"
      },
      "execution_count": 38,
      "outputs": [
        {
          "output_type": "execute_result",
          "data": {
            "text/plain": [
              "array([[0.04313733],\n",
              "       [0.23845032],\n",
              "       [0.20400321],\n",
              "       [0.23169808],\n",
              "       [0.12075801],\n",
              "       [0.12357974],\n",
              "       [0.0220933 ],\n",
              "       [0.01210499],\n",
              "       [0.00417503]])"
            ]
          },
          "metadata": {},
          "execution_count": 38
        }
      ]
    },
    {
      "cell_type": "code",
      "source": [
        "def NormalizeData(data):\n",
        "    return (data - np.min(data)) / (np.max(data) - np.min(data))"
      ],
      "metadata": {
        "id": "l_zaqWu2XmEG"
      },
      "execution_count": 39,
      "outputs": []
    },
    {
      "cell_type": "code",
      "source": [
        "plt.plot([0,1,2,3,4,5,6,7,8],st_mtx)\n",
        "\n",
        "plt.figure(figsize=(10,100))"
      ],
      "metadata": {
        "colab": {
          "base_uri": "https://localhost:8080/",
          "height": 303
        },
        "id": "tPLL_RbbMDl_",
        "outputId": "bec24e3b-693f-4b8f-f587-4094b2ac3668"
      },
      "execution_count": 40,
      "outputs": [
        {
          "output_type": "execute_result",
          "data": {
            "text/plain": [
              "<Figure size 720x7200 with 0 Axes>"
            ]
          },
          "metadata": {},
          "execution_count": 40
        },
        {
          "output_type": "display_data",
          "data": {
            "text/plain": [
              "<Figure size 432x288 with 1 Axes>"
            ],
            "image/png": "[encoded data removed]"
          },
          "metadata": {
            "needs_background": "light"
          }
        },
        {
          "output_type": "display_data",
          "data": {
            "text/plain": [
              "<Figure size 720x7200 with 0 Axes>"
            ]
          },
          "metadata": {}
        }
      ]
    },
    {
      "cell_type": "code",
      "source": [
        "def simulate_multinomial(vmultinomial):\n",
        "  r=np.random.uniform(0.0, 1.0)\n",
        "  CS=np.cumsum(vmultinomial)\n",
        "  CS=np.insert(CS,0,0)\n",
        "  m=(np.where(CS<r))[0]\n",
        "  nextState=m[len(m)-1]\n",
        "  return nextState"
      ],
      "metadata": {
        "id": "9joTFNmkPEmB"
      },
      "execution_count": 41,
      "outputs": []
    },
    {
      "cell_type": "code",
      "source": [
        "#simulate markov chain\n",
        "import numpy as np\n",
        "curr_state = 4\n",
        "n=52415\n",
        "model = np.array([0])\n",
        "prev_state = curr_state\n",
        "while n>0:\n",
        "  curr_state=np.random.choice([0,1,2,3,4,5,6,7,8],p=transition_mtx[prev_state])\n",
        "  model=np.vstack((model,curr_state))\n",
        "  prev_state = curr_state\n",
        "  n-=1\n"
      ],
      "metadata": {
        "id": "c2lqYkhy3v1s"
      },
      "execution_count": 42,
      "outputs": []
    },
    {
      "cell_type": "code",
      "source": [
        "plt.plot(df['DateTime'],df['state'])\n",
        "plt.plot(df['DateTime'],model)\n",
        "plt.figure(figsize=(80,60))"
      ],
      "metadata": {
        "colab": {
          "base_uri": "https://localhost:8080/",
          "height": 299
        },
        "id": "ItleyFOY_70O",
        "outputId": "e292f310-5270-4608-b67a-f288449e5acb"
      },
      "execution_count": 43,
      "outputs": [
        {
          "output_type": "execute_result",
          "data": {
            "text/plain": [
              "<Figure size 5760x4320 with 0 Axes>"
            ]
          },
          "metadata": {},
          "execution_count": 43
        },
        {
          "output_type": "display_data",
          "data": {
            "text/plain": [
              "<Figure size 432x288 with 1 Axes>"
            ],
            "image/png": "[encoded data removed]"
          },
          "metadata": {
            "needs_background": "light"
          }
        },
        {
          "output_type": "display_data",
          "data": {
            "text/plain": [
              "<Figure size 5760x4320 with 0 Axes>"
            ]
          },
          "metadata": {}
        }
      ]
    },
    {
      "cell_type": "code",
      "source": [
        "simulated_df = pd.DataFrame(model)\n",
        "simulated_df.value_counts()"
      ],
      "metadata": {
        "colab": {
          "base_uri": "https://localhost:8080/"
        },
        "id": "GEM7gom04QpP",
        "outputId": "a7e97648-aca1-4974-e828-dd8c258d0bda"
      },
      "execution_count": 44,
      "outputs": [
        {
          "output_type": "execute_result",
          "data": {
            "text/plain": [
              "3    12981\n",
              "1    11853\n",
              "2    11241\n",
              "5     6296\n",
              "4     6210\n",
              "0     2344\n",
              "6      928\n",
              "7      475\n",
              "8       88\n",
              "dtype: int64"
            ]
          },
          "metadata": {},
          "execution_count": 44
        }
      ]
    },
    {
      "cell_type": "code",
      "source": [
        "simulated_pp = {\n",
        "    'state': [0,1,2,3,4,5,6,7,8],\n",
        "    'frequency': [2285,13373,11169,11963,6201,5894,970,471,91]\n",
        "\n",
        "}\n",
        "plt.plot(dfp['state'],dfp['frequency'])\n",
        "plt.plot(simulated_pp['state'],simulated_pp['frequency'])"
      ],
      "metadata": {
        "colab": {
          "base_uri": "https://localhost:8080/",
          "height": 286
        },
        "id": "nbDJmAH99tN_",
        "outputId": "dc5699b4-09f4-4eb1-80ea-56bc0d20241c"
      },
      "execution_count": 45,
      "outputs": [
        {
          "output_type": "execute_result",
          "data": {
            "text/plain": [
              "[<matplotlib.lines.Line2D at 0x7fd76f16bb90>]"
            ]
          },
          "metadata": {},
          "execution_count": 45
        },
        {
          "output_type": "display_data",
          "data": {
            "text/plain": [
              "<Figure size 432x288 with 1 Axes>"
            ],
            "image/png": "[encoded data removed]"
          },
          "metadata": {
            "needs_background": "light"
          }
        }
      ]
    },
    {
      "cell_type": "code",
      "source": [
        "from scipy.stats import chi2\n",
        "def compute_test_statistic(N, Q, i):\n",
        "    n, N2 = N.shape[0], N[i][Q[i] > 0]\n",
        "    S = N2.sum()\n",
        "    ch2 = chi2.ppf(q = 0.95, df = len(N2) - 1) \n",
        "    ts = 0.0\n",
        "    # print(n, S)\n",
        "    if S > 0:\n",
        "      for j in range(n): \n",
        "        if Q[i][j] > 0:\n",
        "          observed = N[i][j]\n",
        "          expected = S * Q[i][j]\n",
        "          ts += ((observed - expected)**2 / expected)\n",
        "    return ch2, ts"
      ],
      "metadata": {
        "id": "BlMQAYtj-lY8"
      },
      "execution_count": 46,
      "outputs": []
    },
    {
      "cell_type": "code",
      "source": [
        "\n",
        "def get_observed(N):\n",
        "  observed = np.zeros((9,9))\n",
        "  for i in range(len(N)-2):\n",
        "    observed[N[i],N[i+2]] += 1\n",
        "  return observed"
      ],
      "metadata": {
        "id": "pOJ0kyrfC8xI"
      },
      "execution_count": 47,
      "outputs": []
    },
    {
      "cell_type": "code",
      "source": [
        "ob = get_observed(df['state'])\n",
        "pd.DataFrame(ob)"
      ],
      "metadata": {
        "id": "biKYoBa2GFUi",
        "colab": {
          "base_uri": "https://localhost:8080/",
          "height": 328
        },
        "outputId": "dc81a16a-9055-449b-ac55-b39d61f8e3bf"
      },
      "execution_count": 48,
      "outputs": [
        {
          "output_type": "execute_result",
          "data": {
            "text/plain": [
              "        0        1       2        3       4       5      6      7      8\n",
              "0  1768.0    490.0     0.0      0.0     0.0     0.0    0.0    0.0    1.0\n",
              "1   490.0  11260.0   737.0      0.0     0.0     0.0    0.0    0.0    0.0\n",
              "2     0.0    736.0  8889.0   1049.0     8.0     0.0    0.0    0.0    0.0\n",
              "3     0.0      1.0  1058.0  10338.0   725.0    33.0    0.0    0.0    0.0\n",
              "4     0.0      0.0     0.0    766.0  4891.0   674.0    4.0    0.0    0.0\n",
              "5     0.0      0.0     0.0      0.0   711.0  5550.0  204.0   18.0    0.0\n",
              "6     0.0      0.0     0.0      0.0     0.0   226.0  846.0   81.0    6.0\n",
              "7     0.0      0.0     0.0      0.0     0.0     0.0  105.0  480.0   50.0\n",
              "8     1.0      0.0     0.0      0.0     0.0     0.0    0.0   56.0  162.0"
            ],
            "text/html": [
              "\n",
              "  <div id=\"df-991f0642-e6b0-426d-b04f-b75f173b37fc\">\n",
              "    <div class=\"colab-df-container\">\n",
              "      <div>\n",
              "<style scoped>\n",
              "    .dataframe tbody tr th:only-of-type {\n",
              "        vertical-align: middle;\n",
              "    }\n",
              "\n",
              "    .dataframe tbody tr th {\n",
              "        vertical-align: top;\n",
              "    }\n",
              "\n",
              "    .dataframe thead th {\n",
              "        text-align: right;\n",
              "    }\n",
              "</style>\n",
              "<table border=\"1\" class=\"dataframe\">\n",
              "  <thead>\n",
              "    <tr style=\"text-align: right;\">\n",
              "      <th></th>\n",
              "      <th>0</th>\n",
              "      <th>1</th>\n",
              "      <th>2</th>\n",
              "      <th>3</th>\n",
              "      <th>4</th>\n",
              "      <th>5</th>\n",
              "      <th>6</th>\n",
              "      <th>7</th>\n",
              "      <th>8</th>\n",
              "    </tr>\n",
              "  </thead>\n",
              "  <tbody>\n",
              "    <tr>\n",
              "      <th>0</th>\n",
              "      <td>1768.0</td>\n",
              "      <td>490.0</td>\n",
              "      <td>0.0</td>\n",
              "      <td>0.0</td>\n",
              "      <td>0.0</td>\n",
              "      <td>0.0</td>\n",
              "      <td>0.0</td>\n",
              "      <td>0.0</td>\n",
              "      <td>1.0</td>\n",
              "    </tr>\n",
              "    <tr>\n",
              "      <th>1</th>\n",
              "      <td>490.0</td>\n",
              "      <td>11260.0</td>\n",
              "      <td>737.0</td>\n",
              "      <td>0.0</td>\n",
              "      <td>0.0</td>\n",
              "      <td>0.0</td>\n",
              "      <td>0.0</td>\n",
              "      <td>0.0</td>\n",
              "      <td>0.0</td>\n",
              "    </tr>\n",
              "    <tr>\n",
              "      <th>2</th>\n",
              "      <td>0.0</td>\n",
              "      <td>736.0</td>\n",
              "      <td>8889.0</td>\n",
              "      <td>1049.0</td>\n",
              "      <td>8.0</td>\n",
              "      <td>0.0</td>\n",
              "      <td>0.0</td>\n",
              "      <td>0.0</td>\n",
              "      <td>0.0</td>\n",
              "    </tr>\n",
              "    <tr>\n",
              "      <th>3</th>\n",
              "      <td>0.0</td>\n",
              "      <td>1.0</td>\n",
              "      <td>1058.0</td>\n",
              "      <td>10338.0</td>\n",
              "      <td>725.0</td>\n",
              "      <td>33.0</td>\n",
              "      <td>0.0</td>\n",
              "      <td>0.0</td>\n",
              "      <td>0.0</td>\n",
              "    </tr>\n",
              "    <tr>\n",
              "      <th>4</th>\n",
              "      <td>0.0</td>\n",
              "      <td>0.0</td>\n",
              "      <td>0.0</td>\n",
              "      <td>766.0</td>\n",
              "      <td>4891.0</td>\n",
              "      <td>674.0</td>\n",
              "      <td>4.0</td>\n",
              "      <td>0.0</td>\n",
              "      <td>0.0</td>\n",
              "    </tr>\n",
              "    <tr>\n",
              "      <th>5</th>\n",
              "      <td>0.0</td>\n",
              "      <td>0.0</td>\n",
              "      <td>0.0</td>\n",
              "      <td>0.0</td>\n",
              "      <td>711.0</td>\n",
              "      <td>5550.0</td>\n",
              "      <td>204.0</td>\n",
              "      <td>18.0</td>\n",
              "      <td>0.0</td>\n",
              "    </tr>\n",
              "    <tr>\n",
              "      <th>6</th>\n",
              "      <td>0.0</td>\n",
              "      <td>0.0</td>\n",
              "      <td>0.0</td>\n",
              "      <td>0.0</td>\n",
              "      <td>0.0</td>\n",
              "      <td>226.0</td>\n",
              "      <td>846.0</td>\n",
              "      <td>81.0</td>\n",
              "      <td>6.0</td>\n",
              "    </tr>\n",
              "    <tr>\n",
              "      <th>7</th>\n",
              "      <td>0.0</td>\n",
              "      <td>0.0</td>\n",
              "      <td>0.0</td>\n",
              "      <td>0.0</td>\n",
              "      <td>0.0</td>\n",
              "      <td>0.0</td>\n",
              "      <td>105.0</td>\n",
              "      <td>480.0</td>\n",
              "      <td>50.0</td>\n",
              "    </tr>\n",
              "    <tr>\n",
              "      <th>8</th>\n",
              "      <td>1.0</td>\n",
              "      <td>0.0</td>\n",
              "      <td>0.0</td>\n",
              "      <td>0.0</td>\n",
              "      <td>0.0</td>\n",
              "      <td>0.0</td>\n",
              "      <td>0.0</td>\n",
              "      <td>56.0</td>\n",
              "      <td>162.0</td>\n",
              "    </tr>\n",
              "  </tbody>\n",
              "</table>\n",
              "</div>\n",
              "      <button class=\"colab-df-convert\" onclick=\"convertToInteractive('df-991f0642-e6b0-426d-b04f-b75f173b37fc')\"\n",
              "              title=\"Convert this dataframe to an interactive table.\"\n",
              "              style=\"display:none;\">\n",
              "        \n",
              "  <svg xmlns=\"http://www.w3.org/2000/svg\" height=\"24px\"viewBox=\"0 0 24 24\"\n",
              "       width=\"24px\">\n",
              "    <path d=\"M0 0h24v24H0V0z\" fill=\"none\"/>\n",
              "    <path d=\"M18.56 5.44l.94 2.06.94-2.06 2.06-.94-2.06-.94-.94-2.06-.94 2.06-2.06.94zm-11 1L8.5 8.5l.94-2.06 2.06-.94-2.06-.94L8.5 2.5l-.94 2.06-2.06.94zm10 10l.94 2.06.94-2.06 2.06-.94-2.06-.94-.94-2.06-.94 2.06-2.06.94z\"/><path d=\"M17.41 7.96l-1.37-1.37c-.4-.4-.92-.59-1.43-.59-.52 0-1.04.2-1.43.59L10.3 9.45l-7.72 7.72c-.78.78-.78 2.05 0 2.83L4 21.41c.39.39.9.59 1.41.59.51 0 1.02-.2 1.41-.59l7.78-7.78 2.81-2.81c.8-.78.8-2.07 0-2.86zM5.41 20L4 18.59l7.72-7.72 1.47 1.35L5.41 20z\"/>\n",
              "  </svg>\n",
              "      </button>\n",
              "      \n",
              "  <style>\n",
              "    .colab-df-container {\n",
              "      display:flex;\n",
              "      flex-wrap:wrap;\n",
              "      gap: 12px;\n",
              "    }\n",
              "\n",
              "    .colab-df-convert {\n",
              "      background-color: #E8F0FE;\n",
              "      border: none;\n",
              "      border-radius: 50%;\n",
              "      cursor: pointer;\n",
              "      display: none;\n",
              "      fill: #1967D2;\n",
              "      height: 32px;\n",
              "      padding: 0 0 0 0;\n",
              "      width: 32px;\n",
              "    }\n",
              "\n",
              "    .colab-df-convert:hover {\n",
              "      background-color: #E2EBFA;\n",
              "      box-shadow: 0px 1px 2px rgba(60, 64, 67, 0.3), 0px 1px 3px 1px rgba(60, 64, 67, 0.15);\n",
              "      fill: #174EA6;\n",
              "    }\n",
              "\n",
              "    [theme=dark] .colab-df-convert {\n",
              "      background-color: #3B4455;\n",
              "      fill: #D2E3FC;\n",
              "    }\n",
              "\n",
              "    [theme=dark] .colab-df-convert:hover {\n",
              "      background-color: #434B5C;\n",
              "      box-shadow: 0px 1px 3px 1px rgba(0, 0, 0, 0.15);\n",
              "      filter: drop-shadow(0px 1px 2px rgba(0, 0, 0, 0.3));\n",
              "      fill: #FFFFFF;\n",
              "    }\n",
              "  </style>\n",
              "\n",
              "      <script>\n",
              "        const buttonEl =\n",
              "          document.querySelector('#df-991f0642-e6b0-426d-b04f-b75f173b37fc button.colab-df-convert');\n",
              "        buttonEl.style.display =\n",
              "          google.colab.kernel.accessAllowed ? 'block' : 'none';\n",
              "\n",
              "        async function convertToInteractive(key) {\n",
              "          const element = document.querySelector('#df-991f0642-e6b0-426d-b04f-b75f173b37fc');\n",
              "          const dataTable =\n",
              "            await google.colab.kernel.invokeFunction('convertToInteractive',\n",
              "                                                     [key], {});\n",
              "          if (!dataTable) return;\n",
              "\n",
              "          const docLinkHtml = 'Like what you see? Visit the ' +\n",
              "            '<a target=\"_blank\" href=https://colab.research.google.com/notebooks/data_table.ipynb>data table notebook</a>'\n",
              "            + ' to learn more about interactive tables.';\n",
              "          element.innerHTML = '';\n",
              "          dataTable['output_type'] = 'display_data';\n",
              "          await google.colab.output.renderOutput(dataTable, element);\n",
              "          const docLink = document.createElement('div');\n",
              "          docLink.innerHTML = docLinkHtml;\n",
              "          element.appendChild(docLink);\n",
              "        }\n",
              "      </script>\n",
              "    </div>\n",
              "  </div>\n",
              "  "
            ]
          },
          "metadata": {},
          "execution_count": 48
        }
      ]
    },
    {
      "cell_type": "code",
      "source": [
        "expected = np.zeros((9,9))\n",
        "\n",
        "for i in range(len(expected)):\n",
        "  for j in range(len(expected)):\n",
        "    pk = 0\n",
        "    for k in range(9):\n",
        "      pk = pk + (transition_mtx[i,k]* transition_mtx[k,j])\n",
        "    expected[i,j] = ob[i].sum() * pk\n",
        "pd.DataFrame(expected)"
      ],
      "metadata": {
        "colab": {
          "base_uri": "https://localhost:8080/",
          "height": 372
        },
        "id": "kVD7t7f00mlc",
        "outputId": "f201bac0-cdb6-44dd-e331-1433bca45bb4"
      },
      "execution_count": 49,
      "outputs": [
        {
          "output_type": "execute_result",
          "data": {
            "text/plain": [
              "             0             1            2             3            4  \\\n",
              "0  1767.396437    481.826781     7.898214      0.000000     0.000000   \n",
              "1   481.826781  11287.345057   698.124544     19.587195     0.000000   \n",
              "2     7.876415    696.243607  8936.320224   1023.703590    17.856165   \n",
              "3     0.021062     21.405876  1023.829455  10385.969230   700.747542   \n",
              "4     0.000000      0.032003    17.857836    700.747542  4933.278906   \n",
              "5     0.000000      0.000000     0.000000     23.026835   675.911107   \n",
              "6     0.000000      0.000000     0.000000      0.000000     7.172605   \n",
              "7     0.132420      0.000000     0.000000      0.000000     0.000000   \n",
              "8     1.746148      0.116423     0.000000      0.000000     0.000000   \n",
              "\n",
              "             5           6           7           8  \n",
              "0     0.000000    0.000000    0.132420    1.746148  \n",
              "1     0.000000    0.000000    0.000000    0.116423  \n",
              "2     0.000000    0.000000    0.000000    0.000000  \n",
              "3    23.026835    0.000000    0.000000    0.000000  \n",
              "4   675.911107    7.172605    0.000000    0.000000  \n",
              "5  5558.873014  219.518639    5.670406    0.000000  \n",
              "6   219.518639  838.826425   91.061859    2.420472  \n",
              "7     5.670406   91.061859  487.852800   50.282515  \n",
              "8     0.000000    2.420472   50.282515  164.434441  "
            ],
            "text/html": [
              "\n",
              "  <div id=\"df-b92d1397-f464-4a0b-941e-d0e1374c8680\">\n",
              "    <div class=\"colab-df-container\">\n",
              "      <div>\n",
              "<style scoped>\n",
              "    .dataframe tbody tr th:only-of-type {\n",
              "        vertical-align: middle;\n",
              "    }\n",
              "\n",
              "    .dataframe tbody tr th {\n",
              "        vertical-align: top;\n",
              "    }\n",
              "\n",
              "    .dataframe thead th {\n",
              "        text-align: right;\n",
              "    }\n",
              "</style>\n",
              "<table border=\"1\" class=\"dataframe\">\n",
              "  <thead>\n",
              "    <tr style=\"text-align: right;\">\n",
              "      <th></th>\n",
              "      <th>0</th>\n",
              "      <th>1</th>\n",
              "      <th>2</th>\n",
              "      <th>3</th>\n",
              "      <th>4</th>\n",
              "      <th>5</th>\n",
              "      <th>6</th>\n",
              "      <th>7</th>\n",
              "      <th>8</th>\n",
              "    </tr>\n",
              "  </thead>\n",
              "  <tbody>\n",
              "    <tr>\n",
              "      <th>0</th>\n",
              "      <td>1767.396437</td>\n",
              "      <td>481.826781</td>\n",
              "      <td>7.898214</td>\n",
              "      <td>0.000000</td>\n",
              "      <td>0.000000</td>\n",
              "      <td>0.000000</td>\n",
              "      <td>0.000000</td>\n",
              "      <td>0.132420</td>\n",
              "      <td>1.746148</td>\n",
              "    </tr>\n",
              "    <tr>\n",
              "      <th>1</th>\n",
              "      <td>481.826781</td>\n",
              "      <td>11287.345057</td>\n",
              "      <td>698.124544</td>\n",
              "      <td>19.587195</td>\n",
              "      <td>0.000000</td>\n",
              "      <td>0.000000</td>\n",
              "      <td>0.000000</td>\n",
              "      <td>0.000000</td>\n",
              "      <td>0.116423</td>\n",
              "    </tr>\n",
              "    <tr>\n",
              "      <th>2</th>\n",
              "      <td>7.876415</td>\n",
              "      <td>696.243607</td>\n",
              "      <td>8936.320224</td>\n",
              "      <td>1023.703590</td>\n",
              "      <td>17.856165</td>\n",
              "      <td>0.000000</td>\n",
              "      <td>0.000000</td>\n",
              "      <td>0.000000</td>\n",
              "      <td>0.000000</td>\n",
              "    </tr>\n",
              "    <tr>\n",
              "      <th>3</th>\n",
              "      <td>0.021062</td>\n",
              "      <td>21.405876</td>\n",
              "      <td>1023.829455</td>\n",
              "      <td>10385.969230</td>\n",
              "      <td>700.747542</td>\n",
              "      <td>23.026835</td>\n",
              "      <td>0.000000</td>\n",
              "      <td>0.000000</td>\n",
              "      <td>0.000000</td>\n",
              "    </tr>\n",
              "    <tr>\n",
              "      <th>4</th>\n",
              "      <td>0.000000</td>\n",
              "      <td>0.032003</td>\n",
              "      <td>17.857836</td>\n",
              "      <td>700.747542</td>\n",
              "      <td>4933.278906</td>\n",
              "      <td>675.911107</td>\n",
              "      <td>7.172605</td>\n",
              "      <td>0.000000</td>\n",
              "      <td>0.000000</td>\n",
              "    </tr>\n",
              "    <tr>\n",
              "      <th>5</th>\n",
              "      <td>0.000000</td>\n",
              "      <td>0.000000</td>\n",
              "      <td>0.000000</td>\n",
              "      <td>23.026835</td>\n",
              "      <td>675.911107</td>\n",
              "      <td>5558.873014</td>\n",
              "      <td>219.518639</td>\n",
              "      <td>5.670406</td>\n",
              "      <td>0.000000</td>\n",
              "    </tr>\n",
              "    <tr>\n",
              "      <th>6</th>\n",
              "      <td>0.000000</td>\n",
              "      <td>0.000000</td>\n",
              "      <td>0.000000</td>\n",
              "      <td>0.000000</td>\n",
              "      <td>7.172605</td>\n",
              "      <td>219.518639</td>\n",
              "      <td>838.826425</td>\n",
              "      <td>91.061859</td>\n",
              "      <td>2.420472</td>\n",
              "    </tr>\n",
              "    <tr>\n",
              "      <th>7</th>\n",
              "      <td>0.132420</td>\n",
              "      <td>0.000000</td>\n",
              "      <td>0.000000</td>\n",
              "      <td>0.000000</td>\n",
              "      <td>0.000000</td>\n",
              "      <td>5.670406</td>\n",
              "      <td>91.061859</td>\n",
              "      <td>487.852800</td>\n",
              "      <td>50.282515</td>\n",
              "    </tr>\n",
              "    <tr>\n",
              "      <th>8</th>\n",
              "      <td>1.746148</td>\n",
              "      <td>0.116423</td>\n",
              "      <td>0.000000</td>\n",
              "      <td>0.000000</td>\n",
              "      <td>0.000000</td>\n",
              "      <td>0.000000</td>\n",
              "      <td>2.420472</td>\n",
              "      <td>50.282515</td>\n",
              "      <td>164.434441</td>\n",
              "    </tr>\n",
              "  </tbody>\n",
              "</table>\n",
              "</div>\n",
              "      <button class=\"colab-df-convert\" onclick=\"convertToInteractive('df-b92d1397-f464-4a0b-941e-d0e1374c8680')\"\n",
              "              title=\"Convert this dataframe to an interactive table.\"\n",
              "              style=\"display:none;\">\n",
              "        \n",
              "  <svg xmlns=\"http://www.w3.org/2000/svg\" height=\"24px\"viewBox=\"0 0 24 24\"\n",
              "       width=\"24px\">\n",
              "    <path d=\"M0 0h24v24H0V0z\" fill=\"none\"/>\n",
              "    <path d=\"M18.56 5.44l.94 2.06.94-2.06 2.06-.94-2.06-.94-.94-2.06-.94 2.06-2.06.94zm-11 1L8.5 8.5l.94-2.06 2.06-.94-2.06-.94L8.5 2.5l-.94 2.06-2.06.94zm10 10l.94 2.06.94-2.06 2.06-.94-2.06-.94-.94-2.06-.94 2.06-2.06.94z\"/><path d=\"M17.41 7.96l-1.37-1.37c-.4-.4-.92-.59-1.43-.59-.52 0-1.04.2-1.43.59L10.3 9.45l-7.72 7.72c-.78.78-.78 2.05 0 2.83L4 21.41c.39.39.9.59 1.41.59.51 0 1.02-.2 1.41-.59l7.78-7.78 2.81-2.81c.8-.78.8-2.07 0-2.86zM5.41 20L4 18.59l7.72-7.72 1.47 1.35L5.41 20z\"/>\n",
              "  </svg>\n",
              "      </button>\n",
              "      \n",
              "  <style>\n",
              "    .colab-df-container {\n",
              "      display:flex;\n",
              "      flex-wrap:wrap;\n",
              "      gap: 12px;\n",
              "    }\n",
              "\n",
              "    .colab-df-convert {\n",
              "      background-color: #E8F0FE;\n",
              "      border: none;\n",
              "      border-radius: 50%;\n",
              "      cursor: pointer;\n",
              "      display: none;\n",
              "      fill: #1967D2;\n",
              "      height: 32px;\n",
              "      padding: 0 0 0 0;\n",
              "      width: 32px;\n",
              "    }\n",
              "\n",
              "    .colab-df-convert:hover {\n",
              "      background-color: #E2EBFA;\n",
              "      box-shadow: 0px 1px 2px rgba(60, 64, 67, 0.3), 0px 1px 3px 1px rgba(60, 64, 67, 0.15);\n",
              "      fill: #174EA6;\n",
              "    }\n",
              "\n",
              "    [theme=dark] .colab-df-convert {\n",
              "      background-color: #3B4455;\n",
              "      fill: #D2E3FC;\n",
              "    }\n",
              "\n",
              "    [theme=dark] .colab-df-convert:hover {\n",
              "      background-color: #434B5C;\n",
              "      box-shadow: 0px 1px 3px 1px rgba(0, 0, 0, 0.15);\n",
              "      filter: drop-shadow(0px 1px 2px rgba(0, 0, 0, 0.3));\n",
              "      fill: #FFFFFF;\n",
              "    }\n",
              "  </style>\n",
              "\n",
              "      <script>\n",
              "        const buttonEl =\n",
              "          document.querySelector('#df-b92d1397-f464-4a0b-941e-d0e1374c8680 button.colab-df-convert');\n",
              "        buttonEl.style.display =\n",
              "          google.colab.kernel.accessAllowed ? 'block' : 'none';\n",
              "\n",
              "        async function convertToInteractive(key) {\n",
              "          const element = document.querySelector('#df-b92d1397-f464-4a0b-941e-d0e1374c8680');\n",
              "          const dataTable =\n",
              "            await google.colab.kernel.invokeFunction('convertToInteractive',\n",
              "                                                     [key], {});\n",
              "          if (!dataTable) return;\n",
              "\n",
              "          const docLinkHtml = 'Like what you see? Visit the ' +\n",
              "            '<a target=\"_blank\" href=https://colab.research.google.com/notebooks/data_table.ipynb>data table notebook</a>'\n",
              "            + ' to learn more about interactive tables.';\n",
              "          element.innerHTML = '';\n",
              "          dataTable['output_type'] = 'display_data';\n",
              "          await google.colab.output.renderOutput(dataTable, element);\n",
              "          const docLink = document.createElement('div');\n",
              "          docLink.innerHTML = docLinkHtml;\n",
              "          element.appendChild(docLink);\n",
              "        }\n",
              "      </script>\n",
              "    </div>\n",
              "  </div>\n",
              "  "
            ]
          },
          "metadata": {},
          "execution_count": 49
        }
      ]
    },
    {
      "cell_type": "code",
      "source": [
        "x=0\n",
        "p=0\n",
        "for i in range(9):\n",
        "  for j in range(9):\n",
        "    if expected[i,j]>0 and ob[i,j]>0:\n",
        "      x=x+(((ob[i,j]- expected[i,j])**2)/expected[i,j])\n",
        "      p=p+1\n",
        "print(x,p)"
      ],
      "metadata": {
        "colab": {
          "base_uri": "https://localhost:8080/"
        },
        "id": "vt6cyecQ4qLL",
        "outputId": "a7a3a30c-62b4-4b67-b3da-77a495354ef0"
      },
      "execution_count": 63,
      "outputs": [
        {
          "output_type": "stream",
          "name": "stdout",
          "text": [
            "84.90073007673742 33\n"
          ]
        }
      ]
    },
    {
      "cell_type": "code",
      "source": [
        "z=0\n",
        "\n",
        "for i in range(9):\n",
        "  z=0\n",
        "  q=0\n",
        "  for j in range(9):\n",
        "    \n",
        "    if expected[i,j]>0 and ob[i,j]>0:\n",
        "      z=z+(((ob[i,j]- expected[i,j])**2)/expected[i,j])\n",
        "      q=q+1\n",
        "    \n",
        "  print(i,z,q,chi2.ppf(q=0.95,df=q-1))"
      ],
      "metadata": {
        "colab": {
          "base_uri": "https://localhost:8080/"
        },
        "id": "gHBf_DYh9ZZg",
        "outputId": "44500785-1be4-4b24-df90-cdba24ce167e"
      },
      "execution_count": 68,
      "outputs": [
        {
          "output_type": "stream",
          "name": "stdout",
          "text": [
            "0 0.45768530151990905 3 5.991464547107979\n",
            "1 2.3696905926945813 3 5.991464547107979\n",
            "2 8.586166308535908 4 7.814727903251179\n",
            "3 25.973441862485693 5 9.487729036781154\n",
            "4 7.847256366773862 4 7.814727903251179\n",
            "5 29.741999121192116 4 7.814727903251179\n",
            "6 6.658096874927187 4 7.814727903251179\n",
            "7 2.2613956429450317 3 5.991464547107979\n",
            "8 1.0049980056631287 3 5.991464547107979\n"
          ]
        }
      ]
    },
    {
      "cell_type": "code",
      "source": [
        "N = np.matmul(ob,np.ones((9,1)))\n",
        "N"
      ],
      "metadata": {
        "colab": {
          "base_uri": "https://localhost:8080/"
        },
        "id": "STURFQCeUfsu",
        "outputId": "e51d4153-249d-424c-983d-dd68b8afaf9c"
      },
      "execution_count": 52,
      "outputs": [
        {
          "output_type": "execute_result",
          "data": {
            "text/plain": [
              "array([[ 2259.],\n",
              "       [12487.],\n",
              "       [10682.],\n",
              "       [12155.],\n",
              "       [ 6335.],\n",
              "       [ 6483.],\n",
              "       [ 1159.],\n",
              "       [  635.],\n",
              "       [  219.]])"
            ]
          },
          "metadata": {},
          "execution_count": 52
        }
      ]
    },
    {
      "cell_type": "code",
      "source": [
        "def get_expected(N):\n",
        "  observed = np.zeros((9,9))\n",
        "  for i in range(len(N)-2):\n",
        "    observed[N[i],N[i+1]] += 1\n",
        "  return observed\n",
        "\n"
      ],
      "metadata": {
        "id": "eDNNYFHEoWHE"
      },
      "execution_count": 53,
      "outputs": []
    },
    {
      "cell_type": "code",
      "source": [
        "ex = get_expected(df['state'])"
      ],
      "metadata": {
        "id": "KnBFfhAbcXcF"
      },
      "execution_count": 54,
      "outputs": []
    },
    {
      "cell_type": "code",
      "source": [
        "sim = np.matmul(ex,np.ones((9,1)))\n",
        "sim"
      ],
      "metadata": {
        "colab": {
          "base_uri": "https://localhost:8080/"
        },
        "id": "Fng5xonzdPjp",
        "outputId": "1d05bbb0-a7c8-4dde-c33a-4e2a300a6778"
      },
      "execution_count": 55,
      "outputs": [
        {
          "output_type": "execute_result",
          "data": {
            "text/plain": [
              "array([[ 2259.],\n",
              "       [12487.],\n",
              "       [10682.],\n",
              "       [12155.],\n",
              "       [ 6335.],\n",
              "       [ 6483.],\n",
              "       [ 1159.],\n",
              "       [  635.],\n",
              "       [  219.]])"
            ]
          },
          "metadata": {},
          "execution_count": 55
        }
      ]
    },
    {
      "cell_type": "code",
      "source": [
        "test_stat_data = np.hstack((sim,N))"
      ],
      "metadata": {
        "id": "zaZKMeHGVym_"
      },
      "execution_count": 56,
      "outputs": []
    },
    {
      "cell_type": "code",
      "source": [
        "test_stat_data.shape[0]"
      ],
      "metadata": {
        "colab": {
          "base_uri": "https://localhost:8080/"
        },
        "id": "2t4ccFhDWqmr",
        "outputId": "df61b973-5f4e-4d26-ebe8-34a8a08990f8"
      },
      "execution_count": 57,
      "outputs": [
        {
          "output_type": "execute_result",
          "data": {
            "text/plain": [
              "9"
            ]
          },
          "metadata": {},
          "execution_count": 57
        }
      ]
    },
    {
      "cell_type": "code",
      "source": [
        "#Chi2 test\n",
        "x=[]\n",
        "chi = 0\n",
        "for i in range(test_stat_data.shape[0]):\n",
        "  chi =  (((test_stat_data[i,1]-test_stat_data[i,0])**2)/(test_stat_data[i,0]))\n",
        "  print(chi)\n",
        "  x.append(chi)\n",
        "print(chi)\n"
      ],
      "metadata": {
        "colab": {
          "base_uri": "https://localhost:8080/"
        },
        "id": "J0cVbODGaC3j",
        "outputId": "e0e8fc25-de88-4d35-b673-c11cdda9b392"
      },
      "execution_count": 58,
      "outputs": [
        {
          "output_type": "stream",
          "name": "stdout",
          "text": [
            "0.0\n",
            "0.0\n",
            "0.0\n",
            "0.0\n",
            "0.0\n",
            "0.0\n",
            "0.0\n",
            "0.0\n",
            "0.0\n",
            "0.0\n"
          ]
        }
      ]
    },
    {
      "cell_type": "code",
      "source": [
        "critical_value = chi2.ppf(q=0.95,df=32)\n",
        "critical_value"
      ],
      "metadata": {
        "colab": {
          "base_uri": "https://localhost:8080/"
        },
        "id": "C0mHaZudm_TB",
        "outputId": "3a267b2f-1a71-4d1c-ac03-3c8968c2590e"
      },
      "execution_count": 64,
      "outputs": [
        {
          "output_type": "execute_result",
          "data": {
            "text/plain": [
              "46.19425952027847"
            ]
          },
          "metadata": {},
          "execution_count": 64
        }
      ]
    },
    {
      "cell_type": "code",
      "source": [
        "p_value = 1 - chi2.cdf(x=chi,df=8)\n",
        "p_value"
      ],
      "metadata": {
        "colab": {
          "base_uri": "https://localhost:8080/"
        },
        "id": "3c4sDBannPFs",
        "outputId": "7f81e6e8-5f92-4b45-c0ea-29aba8ca2079"
      },
      "execution_count": 60,
      "outputs": [
        {
          "output_type": "execute_result",
          "data": {
            "text/plain": [
              "1.0"
            ]
          },
          "metadata": {},
          "execution_count": 60
        }
      ]
    },
    {
      "cell_type": "code",
      "source": [
        "for i in range(0,9):\n",
        "  print(chi2.ppf(q=0.95,df=i))"
      ],
      "metadata": {
        "colab": {
          "base_uri": "https://localhost:8080/"
        },
        "id": "RrUE32jmno-_",
        "outputId": "7b6be468-d752-48f7-874c-086baba3262c"
      },
      "execution_count": 61,
      "outputs": [
        {
          "output_type": "stream",
          "name": "stdout",
          "text": [
            "nan\n",
            "3.841458820694124\n",
            "5.991464547107979\n",
            "7.814727903251179\n",
            "9.487729036781154\n",
            "11.070497693516351\n",
            "12.591587243743977\n",
            "14.067140449340169\n",
            "15.50731305586545\n"
          ]
        }
      ]
    },
    {
      "cell_type": "code",
      "source": [],
      "metadata": {
        "id": "1P1Xe8fUV42B"
      },
      "execution_count": 61,
      "outputs": []
    }
  ]
}